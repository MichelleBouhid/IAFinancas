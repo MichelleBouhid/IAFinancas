{
 "cells": [
  {
   "cell_type": "markdown",
   "id": "0df25aa6",
   "metadata": {},
   "source": [
    "### <font color='darkred'>IA Aplicado a Finanças</font>\n",
    "### <font color='darkgreen'>Prever inadimplência com base em Análise de Crédito</font>   \n",
    "### <font color='darkblue'>Parte 1 - Deploy do Modelo</font>   "
   ]
  },
  {
   "cell_type": "markdown",
   "id": "7363e9c8",
   "metadata": {},
   "source": [
    "### <font color='darkred'>Instalando e Carregando Pacotes</font>"
   ]
  },
  {
   "cell_type": "code",
   "execution_count": 1,
   "id": "11603dfb",
   "metadata": {},
   "outputs": [
    {
     "name": "stdout",
     "output_type": "stream",
     "text": [
      "Versão da Linguagem Python Usada Neste Jupyter Notebook: 3.9.13\n"
     ]
    }
   ],
   "source": [
    "# Versão da Linguagem Python\n",
    "from platform import python_version\n",
    "print('Versão da Linguagem Python Usada Neste Jupyter Notebook:', python_version())"
   ]
  },
  {
   "cell_type": "code",
   "execution_count": 2,
   "id": "ada47077",
   "metadata": {},
   "outputs": [],
   "source": [
    "# Imports\n",
    "import pandas as pd\n",
    "import torch\n",
    "import torch.nn as nn\n",
    "from joblib import load\n",
    "import warnings\n",
    "warnings.filterwarnings('ignore')"
   ]
  },
  {
   "cell_type": "code",
   "execution_count": 3,
   "id": "3c604d34",
   "metadata": {},
   "outputs": [
    {
     "name": "stdout",
     "output_type": "stream",
     "text": [
      "Author: Michelle Bouhid\n",
      "\n",
      "platform: 1.0.8\n",
      "torch   : 2.5.1\n",
      "joblib  : 1.4.2\n",
      "pandas  : 1.5.3\n",
      "\n"
     ]
    }
   ],
   "source": [
    "### Versões dos pacotes usados neste jupyter notebook\n",
    "%reload_ext watermark\n",
    "%watermark -a \"Michelle Bouhid\" --iversions"
   ]
  },
  {
   "cell_type": "code",
   "execution_count": 4,
   "id": "33b31b2c",
   "metadata": {},
   "outputs": [],
   "source": [
    "# Definição da arquitetura do modelo (deve ser a mesma que foi treinada)\n",
    "# Cria a casta e vai preencher com o conteudo do arquivo criado no treino/teste: michelle_modelo.pth\n",
    "class ModeloNN(nn.Module):\n",
    "    def __init__(self, input_dim):\n",
    "        super(ModeloNN, self).__init__()\n",
    "        self.fc1 = nn.Linear(input_dim, 128)\n",
    "        self.fc2 = nn.Linear(128, 64)\n",
    "        self.fc3 = nn.Linear(64, 32)\n",
    "        self.fc4 = nn.Linear(32, 1)\n",
    "        self.sigmoid = nn.Sigmoid()\n",
    "    \n",
    "    def forward(self, x):\n",
    "        x = torch.relu(self.fc1(x))\n",
    "        x = torch.relu(self.fc2(x))\n",
    "        x = torch.relu(self.fc3(x))\n",
    "        x = self.sigmoid(self.fc4(x))\n",
    "        return x"
   ]
  },
  {
   "cell_type": "code",
   "execution_count": 5,
   "id": "02bf9676",
   "metadata": {},
   "outputs": [
    {
     "data": {
      "text/plain": [
       "<All keys matched successfully>"
      ]
     },
     "execution_count": 5,
     "metadata": {},
     "output_type": "execute_result"
    }
   ],
   "source": [
    "# Carregar os dados de entrada - novos dados\n",
    "data = pd.read_csv('dados/novos_clientes.csv')\n",
    "\n",
    "# Carregar o scaler => tudo que fizer no treino e teste e aos novos dados\n",
    "scaler = load('modelos/michelle_scaler.pkl')\n",
    "\n",
    "# Aplicar a transformação do scaler nos novos dados\n",
    "X_new = scaler.transform(data)\n",
    "\n",
    "# Converter os dados transformados para tensores PyTorch\n",
    "X_new_tensor = torch.FloatTensor(X_new)\n",
    "\n",
    "# Definir a arquitetura do modelo\n",
    "# o modelo espera receber o shape do novos dados, no caso nº de calunas\n",
    "model = ModeloNN(X_new.shape[1])\n",
    "\n",
    "# Carregar o modelo treinado\n",
    "model.load_state_dict(torch.load('modelos/michelle_modelo.pth'))\n",
    "\n"
   ]
  },
  {
   "cell_type": "code",
   "execution_count": 6,
   "id": "d38d6119",
   "metadata": {},
   "outputs": [
    {
     "name": "stdout",
     "output_type": "stream",
     "text": [
      "\n",
      "Previsões Feitas Pelo Modelo de IA:\n",
      "\n"
     ]
    }
   ],
   "source": [
    "# Definir o modelo como modo de avaliação (importante para desativar camadas como Dropout, se existirem)\n",
    "# eval = avaliation\n",
    "model.eval()\n",
    "\n",
    "# Realizar as previsões\n",
    "with torch.no_grad():  # desativar o cálculo do gradiente para melhorar a performance\n",
    "    probabilities = model(X_new_tensor) #parametro novos dados em formato de tensor\n",
    "    \n",
    "# Convertendo as probabilidades para classes com base no limiar de 0.5\n",
    "# o modelo entrega um valor de probabilidade, se tiver maior que 0.5 entrega 1, vai ficar inadimplente\n",
    "# poderia melhorar o codigo entregando o valor da probabilidade que o modelo calculou!\n",
    "predicted_classes = (probabilities > 0.5).int().numpy()\n",
    "\n",
    "print('\\nPrevisões Feitas Pelo Modelo de IA:\\n')\n",
    "\n"
   ]
  },
  {
   "cell_type": "code",
   "execution_count": 7,
   "id": "c1576fb7",
   "metadata": {},
   "outputs": [
    {
     "name": "stdout",
     "output_type": "stream",
     "text": [
      "Este cliente: {'idade': 93.0, 'salario': 9302.87, 'historico_credito': 0.53, 'emprestimos_ativos': 9.0} provavelmente não será inadimplente.\n",
      "Este cliente: {'idade': 62.0, 'salario': 10953.85, 'historico_credito': 0.96, 'emprestimos_ativos': 4.0} provavelmente não será inadimplente.\n",
      "Este cliente: {'idade': 35.0, 'salario': 5811.8, 'historico_credito': 0.45, 'emprestimos_ativos': 3.0} provavelmente não será inadimplente.\n",
      "Este cliente: {'idade': 64.0, 'salario': 12258.81, 'historico_credito': 1.0, 'emprestimos_ativos': 2.0} provavelmente não será inadimplente.\n",
      "Este cliente: {'idade': 41.0, 'salario': 2727.73, 'historico_credito': 0.67, 'emprestimos_ativos': 5.0} provavelmente não será inadimplente.\n",
      "Este cliente: {'idade': 43.0, 'salario': 7921.23, 'historico_credito': 0.16, 'emprestimos_ativos': 4.0} provavelmente será inadimplente.\n",
      "Este cliente: {'idade': 42.0, 'salario': 8841.73, 'historico_credito': 1.0, 'emprestimos_ativos': 3.0} provavelmente não será inadimplente.\n",
      "Este cliente: {'idade': 62.0, 'salario': 1342.83, 'historico_credito': 0.39, 'emprestimos_ativos': 5.0} provavelmente será inadimplente.\n"
     ]
    }
   ],
   "source": [
    "# Loop para imprimir a previsão para cada cliente\n",
    "for idx, prediction in enumerate(predicted_classes):\n",
    "    if prediction == 0:\n",
    "        print(f'Este cliente: {data.iloc[idx].to_dict()} provavelmente não será inadimplente.')\n",
    "    else:\n",
    "        print(f'Este cliente: {data.iloc[idx].to_dict()} provavelmente será inadimplente.')\n",
    "\n"
   ]
  },
  {
   "cell_type": "code",
   "execution_count": 8,
   "id": "3db4ead1",
   "metadata": {},
   "outputs": [],
   "source": [
    "# Criar um DataFrame para armazenar os resultados\n",
    "results = []\n",
    "\n"
   ]
  },
  {
   "cell_type": "code",
   "execution_count": 9,
   "id": "d48bc1b0",
   "metadata": {},
   "outputs": [],
   "source": [
    "# Loop para coletar a previsão para cada cliente\n",
    "for idx, prediction in enumerate(predicted_classes):\n",
    "    client_data = data.iloc[idx].to_dict()\n",
    "    client_data[\"Previsão\"] = \"provavelmente não será inadimplente\" if prediction == 0 else \"provavelmente será inadimplente\"\n",
    "    results.append(client_data)\n",
    "\n"
   ]
  },
  {
   "cell_type": "code",
   "execution_count": 10,
   "id": "ee74681d",
   "metadata": {},
   "outputs": [
    {
     "name": "stdout",
     "output_type": "stream",
     "text": [
      "\n",
      "Previsões Salvas em Disco em resultados/resultados_previsoes.csv!\n",
      "\n"
     ]
    }
   ],
   "source": [
    "# Converter a lista de dicionários em um DataFrame\n",
    "results_df = pd.DataFrame(results)\n",
    "\n",
    "print('\\nPrevisões Salvas em Disco em resultados/resultados_previsoes.csv!\\n')\n",
    "\n"
   ]
  },
  {
   "cell_type": "code",
   "execution_count": 11,
   "id": "f74b43ce",
   "metadata": {},
   "outputs": [],
   "source": [
    "# Salvar o DataFrame em um arquivo CSV\n",
    "results_df.to_csv(\"resultados/resultados_previsoes_michelle.csv\", index=False)"
   ]
  },
  {
   "cell_type": "code",
   "execution_count": null,
   "id": "0bd9bd3b",
   "metadata": {},
   "outputs": [],
   "source": []
  },
  {
   "cell_type": "code",
   "execution_count": null,
   "id": "9fa1acfe",
   "metadata": {},
   "outputs": [],
   "source": []
  }
 ],
 "metadata": {
  "kernelspec": {
   "display_name": "Python 3 (ipykernel)",
   "language": "python",
   "name": "python3"
  },
  "language_info": {
   "codemirror_mode": {
    "name": "ipython",
    "version": 3
   },
   "file_extension": ".py",
   "mimetype": "text/x-python",
   "name": "python",
   "nbconvert_exporter": "python",
   "pygments_lexer": "ipython3",
   "version": "3.9.13"
  }
 },
 "nbformat": 4,
 "nbformat_minor": 5
}
