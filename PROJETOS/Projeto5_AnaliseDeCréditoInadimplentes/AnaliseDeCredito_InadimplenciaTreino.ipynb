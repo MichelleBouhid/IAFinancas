{
 "cells": [
  {
   "cell_type": "markdown",
   "id": "b31682a8",
   "metadata": {},
   "source": [
    "### <font color='darkred'>IA Aplicado a Finanças</font>\n",
    "### <font color='darkgreen'>Prever inadimplência com base em Análise de Crédito</font>   \n",
    "### <font color='darkblue'>Parte 1 - Treino e Teste do modelo</font>   "
   ]
  },
  {
   "cell_type": "markdown",
   "id": "aef225ff",
   "metadata": {},
   "source": [
    "Inadimplência com base no histórico de crédito refere-se à situação em que um indivíduo ou entidade não cumpre suas obrigações financeiras, como o pagamento de uma dívida, e esse comportamento é registrado em seu histórico de crédito.\n",
    "\n",
    "As instituições financeiras usam o histórico de crédito para prever a probabilidade de inadimplência de um potencial mutuário. Se um indivíduo tem um histórico de inadimplências anteriores, ele é considerado de maior risco"
   ]
  },
  {
   "cell_type": "markdown",
   "id": "5c6f8ddc",
   "metadata": {},
   "source": [
    "O  objetivo desse projeto é aplicar técnicas de  Inteligência  Artificial  para desenvolver um modelo preditivo focado na identificação precoce de potenciais inadimplentes. \n",
    "\n",
    "Com base em características do histórico de crédito da base de clientes de uma empresa, o modelo é treinado para detectar padrões e tendências que tipicamente levam à inadimplência. O objetivo é proporcionar às instituições financeiras uma ferramenta robusta e precisa que as ajude a tomar decisões mais informadas no processo de concessão de crédito, minimizando riscos e fortalecendo a saúde financeira da empresa. \n",
    "\n",
    "Ao  longo  do  projeto,  também  enfatizamos  a  importância  da  interpretabilidade  do modelo, garantindo que as decisões tomadas pela IA possam ser compreendidas e justificadas perante as partes interessadas. Os dados usados no projeto são fictícios"
   ]
  },
  {
   "cell_type": "markdown",
   "id": "d5777426",
   "metadata": {},
   "source": [
    "### <font color='darkred'>Instalando e Carregando Pacotes</font>"
   ]
  },
  {
   "cell_type": "code",
   "execution_count": 1,
   "id": "2001bdea",
   "metadata": {},
   "outputs": [
    {
     "name": "stdout",
     "output_type": "stream",
     "text": [
      "Versão da Linguagem Python Usada Neste Jupyter Notebook: 3.9.13\n"
     ]
    }
   ],
   "source": [
    "# Versão da Linguagem Python\n",
    "from platform import python_version\n",
    "print('Versão da Linguagem Python Usada Neste Jupyter Notebook:', python_version())"
   ]
  },
  {
   "cell_type": "code",
   "execution_count": 3,
   "id": "dee4aa7d",
   "metadata": {},
   "outputs": [
    {
     "name": "stdout",
     "output_type": "stream",
     "text": [
      "Collecting torch\n",
      "  Downloading torch-2.5.1-cp39-cp39-win_amd64.whl (203.0 MB)\n",
      "     -------------------------------------- 203.0/203.0 MB 2.1 MB/s eta 0:00:00\n",
      "Requirement already satisfied: networkx in c:\\users\\miche\\anaconda3\\lib\\site-packages (from torch) (2.8.4)\n",
      "Requirement already satisfied: fsspec in c:\\users\\miche\\anaconda3\\lib\\site-packages (from torch) (2022.7.1)\n",
      "Collecting typing-extensions>=4.8.0\n",
      "  Using cached typing_extensions-4.12.2-py3-none-any.whl (37 kB)\n",
      "Requirement already satisfied: jinja2 in c:\\users\\miche\\anaconda3\\lib\\site-packages (from torch) (2.11.3)\n",
      "Requirement already satisfied: filelock in c:\\users\\miche\\anaconda3\\lib\\site-packages (from torch) (3.6.0)\n",
      "Collecting sympy==1.13.1\n",
      "  Downloading sympy-1.13.1-py3-none-any.whl (6.2 MB)\n",
      "     ---------------------------------------- 6.2/6.2 MB 3.7 MB/s eta 0:00:00\n",
      "Requirement already satisfied: mpmath<1.4,>=1.1.0 in c:\\users\\miche\\anaconda3\\lib\\site-packages (from sympy==1.13.1->torch) (1.2.1)\n",
      "Requirement already satisfied: MarkupSafe>=0.23 in c:\\users\\miche\\anaconda3\\lib\\site-packages (from jinja2->torch) (2.0.1)\n",
      "Installing collected packages: typing-extensions, sympy, torch\n",
      "  Attempting uninstall: typing-extensions\n",
      "    Found existing installation: typing_extensions 4.3.0\n",
      "    Uninstalling typing_extensions-4.3.0:\n",
      "      Successfully uninstalled typing_extensions-4.3.0\n",
      "  Attempting uninstall: sympy\n",
      "    Found existing installation: sympy 1.10.1\n",
      "    Uninstalling sympy-1.10.1:\n",
      "      Successfully uninstalled sympy-1.10.1\n",
      "Successfully installed sympy-1.13.1 torch-2.5.1 typing-extensions-4.12.2\n"
     ]
    }
   ],
   "source": [
    "#!pip install torch"
   ]
  },
  {
   "cell_type": "code",
   "execution_count": 4,
   "id": "66de243c",
   "metadata": {},
   "outputs": [],
   "source": [
    "# Imports\n",
    "import pandas as pd\n",
    "import torch # framework para criar o modelo com pytorch para redes neurais artificiais\n",
    "import torch.nn as nn\n",
    "import torch.optim as optim\n",
    "from sklearn.model_selection import train_test_split #divide dados em treino e teste\n",
    "from sklearn.preprocessing import StandardScaler #padroniza os dados\n",
    "from joblib import dump # para fazer o dump do padronizador (o Scaler) - salvar em disco\n",
    "\n",
    "# Quando você ajusta o StandardScaler nos dados, ele aprende a média e o desvio padrão de cada feature. \n",
    "# Salvando esse objeto ajustado, você pode reutilizar exatamente as mesmas configurações para padronizar novos dados \n",
    "# (como dados de teste ou novos dados de produção), garantindo consistência no pré-processamento."
   ]
  },
  {
   "cell_type": "markdown",
   "id": "92b29fa4",
   "metadata": {},
   "source": [
    "O PyTorch (ou simplesmente torch no Python) é uma biblioteca de código aberto para aprendizado de máquina, amplamente usada para construir e treinar redes neurais e realizar tarefas de aprendizado profundo (deep learning). Criado pelo Facebook (agora Meta), ele é especialmente popular na comunidade de pesquisa em inteligência artificial e aprendizado profundo devido à sua flexibilidade e facilidade de uso.\n",
    "\n",
    "**Principais Características do PyTorch**\n",
    "\n",
    "Tensores: PyTorch trabalha com tensores, que são essencialmente arrays multidimensionais (como as matrizes do NumPy) e formam a base de qualquer cálculo em aprendizado profundo. Tensores podem ser processados tanto na CPU quanto na GPU (se você tiver uma placa gráfica compatível), o que acelera os cálculos e é muito útil para redes neurais profundas.\n",
    "\n",
    "Autograd (Diferenciação Automática): PyTorch possui uma funcionalidade de autograd, que calcula automaticamente as derivadas durante o treinamento de redes neurais. Isso é fundamental, pois a maioria dos algoritmos de aprendizado profundo usa a retropropagação (backpropagation) para ajustar os pesos dos neurônios, minimizando o erro entre as previsões e os valores reais.\n",
    "\n",
    "Construção Dinâmica de Redes Neurais: Diferente de outras bibliotecas mais antigas, como o TensorFlow (na versão 1.x), o PyTorch permite definir e modificar redes neurais de forma \"dinâmica\". Isso significa que você pode construir uma rede neural enquanto executa o código, o que é útil para depurar e experimentar novas ideias.\n",
    "\n",
    "Modelos Pré-Treinados e Transfer Learning: Embora torch em si seja o núcleo, com a extensão torchvision (para visão computacional), você pode acessar modelos de redes neurais pré-treinados. Esses modelos são ideais para realizar transfer learning, ou seja, ajustar um modelo pré-treinado para uma tarefa específica.\n",
    "\n",
    "Ampla Adoção e Comunidade Ativa: Devido à sua popularidade, o PyTorch tem uma enorme comunidade e muitos recursos educacionais disponíveis. Isso torna mais fácil encontrar tutoriais, documentação e até bibliotecas adicionais para expandir suas funcionalidades."
   ]
  },
  {
   "cell_type": "markdown",
   "id": "190333c8",
   "metadata": {},
   "source": [
    "**Exemplos de Uso do PyTorch**\n",
    "\n",
    "- Reconhecimento de Imagens: Redes neurais convolucionais (CNNs) são amplamente usadas em visão computacional para classificar imagens ou detectar objetos. PyTorch facilita a construção dessas redes.\n",
    "\n",
    "\n",
    "- Processamento de Linguagem Natural (NLP): Com redes como LSTMs e Transformers, o PyTorch é muito usado para análise de texto, como tradução automática, análise de sentimentos e chatbots.\n",
    "\n",
    "\n",
    "- Séries Temporais e Previsão: Modelos como LSTMs e RNNs no PyTorch são usados para prever séries temporais, como preços de ações ou padrões climáticos.\n",
    "\n",
    "\n",
    "- Criação de Algoritmos de Recomendação: Redes neurais podem ser treinadas para recomendar produtos com base no histórico do usuário."
   ]
  },
  {
   "cell_type": "markdown",
   "id": "1dacf388",
   "metadata": {},
   "source": [
    "**torch.nn:**\n",
    "\n",
    "- Esse módulo fornece componentes essenciais para construir redes neurais, como camadas (layers) e funções de ativação.\n",
    "- Ele inclui classes como nn.Linear (para camadas totalmente conectadas), nn.Conv2d (para camadas convolucionais em redes neurais convolucionais) e funções de ativação como nn.ReLU.\n",
    "- torch.nn é fundamental para definir a estrutura das redes neurais, organizando as camadas e configurando os parâmetros que serão ajustados durante o treinamento.\n",
    "\n",
    "\n",
    "**torch.optim:**\n",
    "\n",
    "- Esse módulo fornece algoritmos de otimização, como SGD (Stochastic Gradient Descent), Adam, Adagrad, entre outros.\n",
    "- Ele permite configurar a forma como os pesos da rede neural são atualizados durante o treinamento, controlando o processo de ajuste para minimizar a função de perda.\n",
    "- Por exemplo, torch.optim.Adam é um otimizador popular para treinamento de redes neurais devido à sua eficácia em ajustar os pesos de forma eficiente.\n",
    "\n",
    "\n",
    "**Esses dois módulos são muito usados juntos em aprendizado profundo: torch.nn para construir a estrutura da rede neural e torch.optim para treinar a rede ajustando os pesos.**"
   ]
  },
  {
   "cell_type": "code",
   "execution_count": 5,
   "id": "762e5fd2",
   "metadata": {},
   "outputs": [
    {
     "name": "stdout",
     "output_type": "stream",
     "text": [
      "Author: Michelle Bouhid\n",
      "\n",
      "sklearn : 1.3.0\n",
      "joblib  : 1.4.2\n",
      "torch   : 2.5.1\n",
      "platform: 1.0.8\n",
      "pandas  : 1.5.3\n",
      "\n"
     ]
    }
   ],
   "source": [
    "# Versões dos pacotes usados neste jupyter notebook\n",
    "%reload_ext watermark\n",
    "%watermark -a \"Michelle Bouhid\" --iversions"
   ]
  },
  {
   "cell_type": "code",
   "execution_count": 6,
   "id": "44f92e3d",
   "metadata": {},
   "outputs": [],
   "source": [
    "# Carregar o arquivo CSV\n",
    "df = pd.read_csv(\"dados/clientes.csv\")"
   ]
  },
  {
   "cell_type": "code",
   "execution_count": 7,
   "id": "c89f9096",
   "metadata": {},
   "outputs": [],
   "source": [
    "# Separar os dados em treinamento e teste\n",
    "X = df[['idade', 'salario', 'historico_credito', 'emprestimos_ativos']].values  #variavel de entrada\n",
    "y = df['inadimplente'].values  #variavel de saida\n",
    "\n",
    "# poderia prever qtos emprestimos ativos o cliente pode ter no futuro, variavel de saida (Y) seria emprestimos\n",
    "# teria que usar outro modelo pq nesse a saida é 0 ou 1\n",
    "# teria q verificar se a variavel X é relevante para prever Y. (feito em outras aulas) \n",
    "# temos que usar a tecnica de seleção em variáveis X pra saber se é relevante"
   ]
  },
  {
   "cell_type": "code",
   "execution_count": 8,
   "id": "8b33f1f6",
   "metadata": {},
   "outputs": [],
   "source": [
    "# Dividir em dados de treino e teste\n",
    "# usou 20% pra teste e 80% treino\n",
    "# o random state é pra produzir o mesmo resultado de aula, na versão final pode remover\n",
    "# precisa dividir em treino e teste para avaliar o modelo sabendo Y na parte de teste\n",
    "X_train, X_test, y_train, y_test = train_test_split(X, y, test_size = 0.2, random_state = 42)"
   ]
  },
  {
   "cell_type": "code",
   "execution_count": 9,
   "id": "7723a91a",
   "metadata": {},
   "outputs": [],
   "source": [
    "# Pré-processar os dados (normalização)\n",
    "# Se não padronizar, durante as operações matematicas a variavel/atributo que tem uma escala maior, \n",
    "# ganha mais relevancia para previsão da variavel alvo, desequilibrando o modelo\n",
    "\n",
    "scaler = StandardScaler() #cria o objeto scaler\n",
    "\n",
    "# pega o objeto scaler e aplica o metodo fit_trnasform nos dados de treino\n",
    "# metodo fit aprende o padrão nos dados - treina o modelo\n",
    "# usa o transform para aplicar a padronização no dados\n",
    "X_train = scaler.fit_transform(X_train) \n",
    "\n",
    "# no dados de teste aplica o metodo transform somente\n",
    "# tem que aplicar o padronizador (scaler) tb nos dados de teste.\n",
    "#Tudo que aplicar em dados de treino aplica nos dados de teste, menos o metodo fit!\n",
    "\n",
    "X_test = scaler.transform(X_test)"
   ]
  },
  {
   "cell_type": "code",
   "execution_count": 10,
   "id": "f02ad348",
   "metadata": {},
   "outputs": [],
   "source": [
    "# Ajustar o tipo e shape dos dados\n",
    "# pytorch espera receber dados em formato de tensor\n",
    "# é um estrutura de dados do Pytorch, como dataframe no Pandas opr ex.\n",
    "# o float tensor para colocar todos os valores como decimal,\n",
    "# mesmo idade sendo inteiro, pra não ter arredondamento nas operaçoes matematicas, ganha precisão\n",
    "# unsqueeze tb é uma transformação no shape dos dados pra o Pytorch, porque ele espera receber os dados como tensor \n",
    "# mas o tensor vem no formato de lista e o unsqueeze quebra a lista e coloca no shape que o Pytorch quer\n",
    "\n",
    "# o x_train é uma matriz que é um tensor e o y_train é uma lista de valores \n",
    "# não pode entregar com mais de 1 dimensão o unsqueeze deixa a lista com 1 dimensão\n",
    "X_train = torch.FloatTensor(X_train)\n",
    "y_train = torch.FloatTensor(y_train).unsqueeze(1)\n",
    "X_test = torch.FloatTensor(X_test)\n",
    "y_test = torch.FloatTensor(y_test).unsqueeze(1)"
   ]
  },
  {
   "cell_type": "markdown",
   "id": "e1fb1fba",
   "metadata": {},
   "source": [
    "### <font color='darkred'>Construir a arquitetura do modelo de Deep Learning</font>\n",
    "\n",
    "- Deep Learning Book : \n",
    "https://www.deeplearningbook.com.br/"
   ]
  },
  {
   "cell_type": "code",
   "execution_count": 11,
   "id": "a88ec923",
   "metadata": {},
   "outputs": [],
   "source": [
    "# Construindo  a Arquitetura do modelo de Deep Learning\n",
    "# Definindo a classe Python que define a arquitetura do modelo - Programação orientada a objetos\n",
    "# Define a classe ModeloNN herdando de nn.Module, que tem 2 métodos: __init__ e forward\n",
    "\n",
    "\n",
    "class ModeloNN(nn.Module): #classe mãe: \"Module\", que pertence ao \"nn\" do torch. (neural network)\n",
    "\n",
    "    # Método construtor para inicializar a classe\n",
    "    def __init__(self, input_dim): #recebe o input_dim de X (entrada) = 4 colunas (dimensão)\n",
    "\n",
    "        # Chama o construtor da classe pai (nn.Module)\n",
    "        # inicializando as camadas do nosso modelo\n",
    "        super(ModeloNN, self).__init__() #Executa o construtor da classe mãe\n",
    "        \n",
    "        # Define a primeira camada totalmente conectada (entrada: input_dim, saída: 128)\n",
    "        # fc - fully conected , nesse caso, camada lineares\n",
    "        self.fc1 = nn.Linear(input_dim, 128)\n",
    "        \n",
    "        # Define a segunda camada totalmente conectada (entrada: 128, saída: 64)\n",
    "        self.fc2 = nn.Linear(128, 64) #neuronios matemáticos 128, 64\n",
    "        \n",
    "        # Define a terceira camada totalmente conectada (entrada: 64, saída: 32)\n",
    "        self.fc3 = nn.Linear(64, 32)\n",
    "        \n",
    "        # Define a quarta camada totalmente conectada (entrada: 32, saída: 1)\n",
    "        self.fc4 = nn.Linear(32, 1)\n",
    "        \n",
    "        # Define a função de ativação Sigmóide\n",
    "        # converte em saida que podemos interpretar como probabilidade, valor entre 0 e 1\n",
    "        self.sigmoid = nn.Sigmoid()\n",
    "        \n",
    "  # Método forward para propagação para frente da rede\n",
    "    def forward(self, x):\n",
    "\n",
    "        # Aplica ReLU após a primeira camada totalmente conectada\n",
    "        # ReLU fç de ativação, exclui resultados negativos, gera 0\n",
    "        x = torch.relu(self.fc1(x))\n",
    "        \n",
    "        # Aplica ReLU após a segunda camada totalmente conectada\n",
    "        x = torch.relu(self.fc2(x))\n",
    "        \n",
    "        # Aplica ReLU após a terceira camada totalmente conectada\n",
    "        x = torch.relu(self.fc3(x))\n",
    "        \n",
    "        # Aplica Sigmóide após a quarta camada totalmente conectada\n",
    "        x = self.sigmoid(self.fc4(x))\n",
    "        \n",
    "        # Retorna a saída\n",
    "        return x      \n",
    "    "
   ]
  },
  {
   "cell_type": "code",
   "execution_count": 12,
   "id": "060bae56",
   "metadata": {},
   "outputs": [],
   "source": [
    "# Criar o modelo\n",
    "# X_train conjunto de dados de entradas recebe shape, que busca nº de linhas (0) e colunas (1)\n",
    "# temos 4 colunas em X, mas vamos automatizar o codigo\n",
    "# model é a casca do modelo.\n",
    "# executa o construtor\n",
    "\n",
    "model = ModeloNN(X_train.shape[1])"
   ]
  },
  {
   "cell_type": "code",
   "execution_count": 14,
   "id": "53eee51e",
   "metadata": {},
   "outputs": [],
   "source": [
    "# Definir a função de erro\n",
    "# BCELoss calcula o erro do modelo de classificação binária\n",
    "criterion = nn.BCELoss() "
   ]
  },
  {
   "cell_type": "code",
   "execution_count": 15,
   "id": "a5c95517",
   "metadata": {},
   "outputs": [
    {
     "name": "stdout",
     "output_type": "stream",
     "text": [
      "\n",
      "Iniciando o Treinamento...\n",
      "\n"
     ]
    }
   ],
   "source": [
    "# Definir o otimizador\n",
    "# vamos otimizar a função de erro, minimizando o errro calculado na função BCELoss\n",
    "# Usa o  algoritmo back propagation, calcula a derivada\n",
    "\n",
    "optimizer = optim.Adam(model.parameters(), lr = 0.001) \n",
    "# laerning rate - lr - hiperparêmetro pra velocidade de treino\n",
    "\n",
    "print('\\nIniciando o Treinamento...\\n')"
   ]
  },
  {
   "attachments": {
    "image.png": {
     "image/png": "[encoded data removed]"
    }
   },
   "cell_type": "markdown",
   "id": "386ab089",
   "metadata": {},
   "source": [
    "Binary Cross Entropy Loss(Perda de Entropia Cruzada Binária) é uma função comumente usada  em  problemas  de  **classificação  binária**  ou  em  situações  em  que  se  deseja  modelar  a probabilidade de um evento ser verdadeiro ou falso.\n",
    "\n",
    "A BCE é usada para calcular o erro do modelo e o objetivo em Deep Learning é exatamente minimizar a função de erro. Esta é a fórmula da função:\n",
    "\n",
    "![image.png](attachment:image.png)\n",
    "\n",
    "Aqui  y  representa  o  label  real  e  y^  representa  a  previsão  feita  pelo  modelo. A  função nn.BCELoss()  do  PyTorch  calcula  automaticamente  a  média  (ou  a  soma,  dependendo  do argumento  reduction  fornecido)  da  Binary  Cross  Entropy  entre  as  previsões  e  os  rótulos verdadeiros fornecidos.\n",
    "\n",
    "Confira aqui a documentação oficial da função:https://pytorch.org/docs/stable/generated/torch.nn.BCELoss.html\n"
   ]
  },
  {
   "cell_type": "code",
   "execution_count": 16,
   "id": "5a3e6865",
   "metadata": {},
   "outputs": [
    {
     "name": "stdout",
     "output_type": "stream",
     "text": [
      "Epoch 1/100, Erro em Treino: 0.7288562655448914\n",
      "Epoch 2/100, Erro em Treino: 0.7156071662902832\n",
      "Epoch 3/100, Erro em Treino: 0.702572226524353\n",
      "Epoch 4/100, Erro em Treino: 0.6895853281021118\n",
      "Epoch 5/100, Erro em Treino: 0.6766160726547241\n",
      "Epoch 6/100, Erro em Treino: 0.6636762022972107\n",
      "Epoch 7/100, Erro em Treino: 0.6507443785667419\n",
      "Epoch 8/100, Erro em Treino: 0.6377660632133484\n",
      "Epoch 9/100, Erro em Treino: 0.6247169375419617\n",
      "Epoch 10/100, Erro em Treino: 0.6112528443336487\n",
      "Epoch 11/100, Erro em Treino: 0.5972772836685181\n",
      "Epoch 12/100, Erro em Treino: 0.5828590989112854\n",
      "Epoch 13/100, Erro em Treino: 0.5680578947067261\n",
      "Epoch 14/100, Erro em Treino: 0.5529263615608215\n",
      "Epoch 15/100, Erro em Treino: 0.5374132394790649\n",
      "Epoch 16/100, Erro em Treino: 0.5216258764266968\n",
      "Epoch 17/100, Erro em Treino: 0.5056553483009338\n",
      "Epoch 18/100, Erro em Treino: 0.4897063076496124\n",
      "Epoch 19/100, Erro em Treino: 0.47402632236480713\n",
      "Epoch 20/100, Erro em Treino: 0.45885682106018066\n",
      "Epoch 21/100, Erro em Treino: 0.44445598125457764\n",
      "Epoch 22/100, Erro em Treino: 0.4310356378555298\n",
      "Epoch 23/100, Erro em Treino: 0.4187715947628021\n",
      "Epoch 24/100, Erro em Treino: 0.40779566764831543\n",
      "Epoch 25/100, Erro em Treino: 0.39817988872528076\n",
      "Epoch 26/100, Erro em Treino: 0.3899291753768921\n",
      "Epoch 27/100, Erro em Treino: 0.3829793632030487\n",
      "Epoch 28/100, Erro em Treino: 0.37720054388046265\n",
      "Epoch 29/100, Erro em Treino: 0.3724261522293091\n",
      "Epoch 30/100, Erro em Treino: 0.3684442937374115\n",
      "Epoch 31/100, Erro em Treino: 0.36501774191856384\n",
      "Epoch 32/100, Erro em Treino: 0.361927330493927\n",
      "Epoch 33/100, Erro em Treino: 0.3589906394481659\n",
      "Epoch 34/100, Erro em Treino: 0.35604289174079895\n",
      "Epoch 35/100, Erro em Treino: 0.35297635197639465\n",
      "Epoch 36/100, Erro em Treino: 0.3497348725795746\n",
      "Epoch 37/100, Erro em Treino: 0.34630364179611206\n",
      "Epoch 38/100, Erro em Treino: 0.3427005708217621\n",
      "Epoch 39/100, Erro em Treino: 0.3389928936958313\n",
      "Epoch 40/100, Erro em Treino: 0.3352455794811249\n",
      "Epoch 41/100, Erro em Treino: 0.3315674662590027\n",
      "Epoch 42/100, Erro em Treino: 0.3280408978462219\n",
      "Epoch 43/100, Erro em Treino: 0.3247104585170746\n",
      "Epoch 44/100, Erro em Treino: 0.32163184881210327\n",
      "Epoch 45/100, Erro em Treino: 0.31883811950683594\n",
      "Epoch 46/100, Erro em Treino: 0.31632891297340393\n",
      "Epoch 47/100, Erro em Treino: 0.31407204270362854\n",
      "Epoch 48/100, Erro em Treino: 0.3120245635509491\n",
      "Epoch 49/100, Erro em Treino: 0.3101550042629242\n",
      "Epoch 50/100, Erro em Treino: 0.30841881036758423\n",
      "Epoch 51/100, Erro em Treino: 0.3068026900291443\n",
      "Epoch 52/100, Erro em Treino: 0.30528753995895386\n",
      "Epoch 53/100, Erro em Treino: 0.303841769695282\n",
      "Epoch 54/100, Erro em Treino: 0.30243852734565735\n",
      "Epoch 55/100, Erro em Treino: 0.3010718822479248\n",
      "Epoch 56/100, Erro em Treino: 0.29973745346069336\n",
      "Epoch 57/100, Erro em Treino: 0.2984330654144287\n",
      "Epoch 58/100, Erro em Treino: 0.29716756939888\n",
      "Epoch 59/100, Erro em Treino: 0.2959350645542145\n",
      "Epoch 60/100, Erro em Treino: 0.2947552502155304\n",
      "Epoch 61/100, Erro em Treino: 0.2936353087425232\n",
      "Epoch 62/100, Erro em Treino: 0.29259443283081055\n",
      "Epoch 63/100, Erro em Treino: 0.2916266918182373\n",
      "Epoch 64/100, Erro em Treino: 0.2907502353191376\n",
      "Epoch 65/100, Erro em Treino: 0.28995946049690247\n",
      "Epoch 66/100, Erro em Treino: 0.2892349064350128\n",
      "Epoch 67/100, Erro em Treino: 0.2885645627975464\n",
      "Epoch 68/100, Erro em Treino: 0.287937194108963\n",
      "Epoch 69/100, Erro em Treino: 0.2873331904411316\n",
      "Epoch 70/100, Erro em Treino: 0.28675055503845215\n",
      "Epoch 71/100, Erro em Treino: 0.2861848473548889\n",
      "Epoch 72/100, Erro em Treino: 0.2856367230415344\n",
      "Epoch 73/100, Erro em Treino: 0.28511515259742737\n",
      "Epoch 74/100, Erro em Treino: 0.2846084237098694\n",
      "Epoch 75/100, Erro em Treino: 0.2841125428676605\n",
      "Epoch 76/100, Erro em Treino: 0.28362032771110535\n",
      "Epoch 77/100, Erro em Treino: 0.2831299602985382\n",
      "Epoch 78/100, Erro em Treino: 0.2826468348503113\n",
      "Epoch 79/100, Erro em Treino: 0.2821761965751648\n",
      "Epoch 80/100, Erro em Treino: 0.2817116975784302\n",
      "Epoch 81/100, Erro em Treino: 0.2812443971633911\n",
      "Epoch 82/100, Erro em Treino: 0.28077927231788635\n",
      "Epoch 83/100, Erro em Treino: 0.2803030014038086\n",
      "Epoch 84/100, Erro em Treino: 0.27981895208358765\n",
      "Epoch 85/100, Erro em Treino: 0.27934521436691284\n",
      "Epoch 86/100, Erro em Treino: 0.2788800895214081\n",
      "Epoch 87/100, Erro em Treino: 0.2784207761287689\n",
      "Epoch 88/100, Erro em Treino: 0.2779700756072998\n",
      "Epoch 89/100, Erro em Treino: 0.2775220572948456\n",
      "Epoch 90/100, Erro em Treino: 0.2770802080631256\n",
      "Epoch 91/100, Erro em Treino: 0.2766476273536682\n",
      "Epoch 92/100, Erro em Treino: 0.27622315287590027\n",
      "Epoch 93/100, Erro em Treino: 0.2758083641529083\n",
      "Epoch 94/100, Erro em Treino: 0.275397926568985\n",
      "Epoch 95/100, Erro em Treino: 0.27498915791511536\n",
      "Epoch 96/100, Erro em Treino: 0.274584025144577\n",
      "Epoch 97/100, Erro em Treino: 0.2741854190826416\n",
      "Epoch 98/100, Erro em Treino: 0.27379998564720154\n",
      "Epoch 99/100, Erro em Treino: 0.2734249532222748\n",
      "Epoch 100/100, Erro em Treino: 0.2730523943901062\n"
     ]
    }
   ],
   "source": [
    "# Treinar o modelo com dados de treino, 100 passadas ou epocas\n",
    "# A escolha de passadas depende da complexidade e da precisão do modelo\n",
    "epochs = 100\n",
    "\n",
    "# Inicia o loop de treinamento para o número especificado de épocas, pelo range de passadas (epochs)\n",
    "for epoch in range(epochs):\n",
    "\n",
    "    # Zera os gradientes do otimizador para não acumular entre as épocas\n",
    "    # os gradientes são mantidos na memória a cada passada e zera em cada passada por causa da memoria\n",
    "    optimizer.zero_grad()\n",
    "    \n",
    "    # Realiza a propagação para frente: calcula as previsões do modelo para os dados de treinamento\n",
    "    # realiza o back propagation no código de optimizer acima\n",
    "    # pega os outputs e grava em outputs\n",
    "    outputs = model(X_train)\n",
    "    \n",
    "    # Calcula a perda (erro) usando a função de perda especificada (criterion)\n",
    "    # pega os outputs e os valores reais de treino (y) e apresentam ao criterion, ela entrega o erro\n",
    "    loss = criterion(outputs, y_train)\n",
    "    \n",
    "    # Realiza a propagação para trás: calcula os gradientes da perda em relação aos parâmetros do modelo\n",
    "    loss.backward()\n",
    "    \n",
    "    # Atualiza os parâmetros do modelo usando o otimizador\n",
    "    optimizer.step()\n",
    "    \n",
    "    # Imprime informações sobre a época atual e a perda\n",
    "    print(f'Epoch {epoch+1}/{epochs}, Erro em Treino: {loss.item()}')"
   ]
  },
  {
   "cell_type": "code",
   "execution_count": 17,
   "id": "ab5309fe",
   "metadata": {},
   "outputs": [
    {
     "name": "stdout",
     "output_type": "stream",
     "text": [
      "\n",
      "Treinamento Concluído com Sucesso!\n",
      "\n",
      "Erro em Teste: 0.24647237360477448\n",
      "\n",
      "Modelos Salvos em Disco!\n",
      "\n"
     ]
    }
   ],
   "source": [
    "# Testar o modelo com dados de teste\n",
    "\n",
    "# Desativa o cálculo automático de gradientes para melhorar a eficiência durante a inferência\n",
    "#não precisa mais de gradiente, só precisa pra treinar\n",
    "with torch.no_grad(): \n",
    "    \n",
    "    # Realiza a propagação para frente no conjunto de teste para obter as previsões do modelo\n",
    "    test_outputs = model(X_test)\n",
    "    \n",
    "    # Calcula a perda (erro) no conjunto de teste usando a função de perda (criterion)\n",
    "    test_loss = criterion(test_outputs, y_test)\n",
    "\n",
    "\n",
    "print('\\nTreinamento Concluído com Sucesso!\\n')\n",
    "\n",
    "print(f'Erro em Teste: {test_loss.item()}')\n",
    "\n",
    "print('\\nModelos Salvos em Disco!\\n')"
   ]
  },
  {
   "cell_type": "code",
   "execution_count": 18,
   "id": "536d4cf5",
   "metadata": {},
   "outputs": [],
   "source": [
    "# Salvar o scaler\n",
    "dump(scaler, 'modelos/michelle_scaler.pkl')\n",
    "\n",
    "# Salvar o modelo\n",
    "torch.save(model.state_dict(), 'modelos/michelle_modelo.pth')\n"
   ]
  },
  {
   "cell_type": "markdown",
   "id": "a3a6845b",
   "metadata": {},
   "source": [
    "## Fim\n"
   ]
  },
  {
   "attachments": {
    "image-2.png": {
     "image/png": "[encoded data removed]"
    },
    "image.png": {
     "image/png": "[encoded data removed]"
    }
   },
   "cell_type": "markdown",
   "id": "46d7a0c8",
   "metadata": {},
   "source": [
    "A principal diferença entre o que está sendo feito aqui (classificação binária com a função de erro Binary Cross Entropy Loss ou BCE) e uma regressão linear está no objetivo e na forma como o erro é calculado.\n",
    "\n",
    "Vamos detalhar essas diferenças:\n",
    "\n",
    "> 1. Objetivo do Problema\n",
    "\n",
    "**Classificação Binária (Usando BCE Loss):**\n",
    "O objetivo é prever a probabilidade de um evento ocorrer (como inadimplência: sim ou não).\n",
    "A saída é geralmente uma probabilidade entre 0 e 1, onde 1 indica a classe positiva e 0 indica a classe negativa.\n",
    "Aqui, usamos uma função de ativação sigmoide na última camada, que converte o valor final da rede neural para um valor entre 0 e 1.\n",
    "\n",
    "\n",
    "**Regressão Linear:**\n",
    "\n",
    "O objetivo é prever um valor contínuo (por exemplo, preço de uma casa).\n",
    "A saída não é uma probabilidade, mas sim um número real, que pode assumir qualquer valor contínuo.\n",
    "A regressão linear não usa a função sigmoide, pois a saída não precisa ser limitada ao intervalo de 0 a 1.\n",
    "\n",
    "\n",
    "> 2. Função de Erro:\n",
    "    \n",
    "Binary Cross Entropy Loss (BCE Loss):\n",
    "\n",
    "A BCE Loss mede o erro entre a previsão de probabilidade do modelo e o valor real (0 ou 1).\n",
    "\n",
    "A fórmula da **Binary Cross Entropy Loss** é:\n",
    "\n",
    "![image.png](attachment:image.png)\n",
    "\n",
    "Onde:\n",
    "-y é o valor verdadeiro (0 ou 1).\n",
    "- y^ é a previsão do modelo (probabilidade entre 0 e 1).\n",
    "\n",
    "Essa função é usada em problemas de classificação binária e penaliza o modelo com base em quão longe a \n",
    "previsão de probabilidade está do valor real.\n",
    "\n",
    "Essa fórmula penaliza fortemente previsões que estão longe da probabilidade correta, ou seja, quando o modelo está confiante na classe errada.\n",
    "É apropriada para problemas onde queremos que a saída seja uma probabilidade, pois a função de ativação sigmoide e a BCE Loss combinam bem para ajustar o modelo para esse fim.\n",
    "\n",
    "\n",
    "Erro Quadrático Médio (MSE) na Regressão Linear:\n",
    "\n",
    "A função de erro mais comum em regressão linear é o Mean Squared Error (MSE), que mede a média das diferenças quadradas entre as previsões e os valores reais.\n",
    "\n",
    "![image-2.png](attachment:image-2.png)\n",
    "\n",
    "Essa fórmula penaliza previsões que estão longe do valor verdadeiro ao quadrado, o que amplifica os erros maiores.\n",
    "O MSE é adequado para regressão porque mede o erro em valores contínuos e não se preocupa com probabilidades.\n",
    "\n",
    "> 3. Saída e Interpretação\n",
    "\n",
    "\n",
    "**Classificação Binária:**\n",
    "\n",
    "A saída é uma probabilidade (graças à função sigmoide), e o modelo faz a previsão final comparando essa probabilidade a um limiar (por exemplo, se a probabilidade é maior que 0.5, classifica como 1).\n",
    "\n",
    "\n",
    "**Regressão Linear:**\n",
    "\n",
    "A saída é um valor contínuo que o modelo tenta aproximar ao valor real. Não há função sigmoide ou outro tipo de ativação na última camada, pois não estamos tentando limitar o valor.\n",
    "\n",
    "\n",
    "#### Em Resumo\n",
    "\n",
    "> Para **classificação binária**, a função Binary Cross Entropy Loss (BCE) mede o erro em prever probabilidades e usa a função sigmoide para produzir uma saída entre 0 e 1.\n",
    "\n",
    "> Para **regressão linear**, a função Mean Squared Error (MSE) mede o erro em prever valores contínuos e não impõe limite à saída.\n",
    "A escolha da função de erro e da ativação final é crítica para alinhar o modelo ao objetivo específico, seja classificação ou regressão.\n",
    "\n",
    "Obs: overfitting o modelo aprende o padrão dos dados, aprender os ruidos, ao inves de aprender a generalização matemática,"
   ]
  },
  {
   "cell_type": "markdown",
   "id": "f1ebb122",
   "metadata": {},
   "source": [
    "Método é uma função dentro de uma classe, aqui nesse NB: class ModeloNN - metodo ModeloNN.\n",
    "\n",
    "Temos 2 métodos nessa função:\n",
    "\n",
    "1 - Método construtor __init__ , quando criar um objeto da class (instanciar a classe), tudo que está no construtor será executado para a iniciação do objeto model criado abaixo. Pra iniciar o objeto da classe.\n",
    "Essas camadas, vão aprendendo os padrões entre os dados\n",
    "\n",
    "2 - metodo foward - onde o modelo é efetivamente executado\n",
    "\n",
    "### Programação Orientada a Objetos:\n",
    "\n",
    "#### 1. Definindo a Classe `ModeloNN`\n",
    "\n",
    "- `class ModeloNN(nn.Module):`\n",
    "  - Criamos uma nova classe `ModeloNN` que herda de `nn.Module`. Isso é obrigatório para que a rede neural funcione dentro do PyTorch e possibilita o uso dos métodos e propriedades dessa classe base.\n",
    "\n",
    "#### 2. Método `__init__` (Construtor da Classe)\n",
    "\n",
    "- `def __init__(self, input_dim):`\n",
    "  - Esse é o **método construtor** da classe. Ele é chamado automaticamente quando você cria uma instância do `ModeloNN`.\n",
    "  - `input_dim` é o número de entradas (ou features) que o modelo vai receber, definido com base nos dados de entrada.\n",
    "  \n",
    "\n",
    "- `super(ModeloNN, self).__init__()`\n",
    "  - Aqui você chama o construtor da classe pai (`nn.Module`). Isso é necessário para inicializar as propriedades do `nn.Module` na sua classe, permitindo o uso de métodos internos do PyTorch.\n",
    "\n",
    "#### Definindo Camadas da Rede Neural\n",
    "\n",
    "- `self.fc1 = nn.Linear(input_dim, 128):`\n",
    "  - Define a primeira camada totalmente conectada (`fc1`). Recebe `input_dim` entradas e gera 128 saídas.\n",
    "\n",
    "- `self.fc2 = nn.Linear(128, 64):`\n",
    "  - Define a segunda camada, que recebe as 128 saídas da camada anterior e produz 64 saídas.\n",
    "\n",
    "- `self.fc3 = nn.Linear(64, 32):`\n",
    "  - Define a terceira camada, com 64 entradas e 32 saídas.\n",
    "\n",
    "- `self.fc4 = nn.Linear(32, 1):`\n",
    "  - Define a última camada com uma única saída (provavelmente para prever uma probabilidade de inadimplência).\n",
    "\n",
    "- `self.sigmoid = nn.Sigmoid()`\n",
    "  - A última camada utiliza a função de ativação **sigmoide** para restringir a saída entre 0 e 1, interpretável como uma probabilidade.\n",
    "\n",
    "#### 3. Método `forward` (Propagação para Frente)\n",
    "\n",
    "Esse método define como os dados passam pelas camadas da rede neural.\n",
    "\n",
    "- `x = torch.relu(self.fc1(x))`\n",
    "  - Passa a entrada `x` pela primeira camada (`fc1`) e aplica a função de ativação **ReLU**. A ReLU transforma valores negativos em zero, introduzindo não linearidade.\n",
    "\n",
    "- `x = torch.relu(self.fc2(x))`\n",
    "  - Passa a saída da camada anterior (`fc2`) pela ReLU novamente.\n",
    "\n",
    "- `x = torch.relu(self.fc3(x))`\n",
    "  - Aplica ReLU na terceira camada (`fc3`).\n",
    "\n",
    "- `x = self.sigmoid(self.fc4(x))`\n",
    "  - Finalmente, passa pela última camada (`fc4`) e aplica a função de ativação sigmoide para gerar a saída entre 0 e 1.\n",
    "\n",
    "- `return x`\n",
    "  - Retorna a saída final da rede, que é uma probabilidade de inadimplência no intervalo de 0 a 1.\n",
    "\n",
    "\n"
   ]
  },
  {
   "cell_type": "code",
   "execution_count": null,
   "id": "2a88ca99",
   "metadata": {},
   "outputs": [],
   "source": []
  }
 ],
 "metadata": {
  "kernelspec": {
   "display_name": "Python 3 (ipykernel)",
   "language": "python",
   "name": "python3"
  },
  "language_info": {
   "codemirror_mode": {
    "name": "ipython",
    "version": 3
   },
   "file_extension": ".py",
   "mimetype": "text/x-python",
   "name": "python",
   "nbconvert_exporter": "python",
   "pygments_lexer": "ipython3",
   "version": "3.9.13"
  }
 },
 "nbformat": 4,
 "nbformat_minor": 5
}
