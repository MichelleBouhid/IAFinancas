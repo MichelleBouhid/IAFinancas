{
 "cells": [
  {
   "cell_type": "markdown",
   "id": "a6562cce",
   "metadata": {},
   "source": [
    "## <font color='darkred'>IA Aplicado a Finanças</font>\n",
    "\n",
    "### <font color='darkgreen'> Otimização de Portfólio de Ativos Financeiros com IA </font>\n",
    "  "
   ]
  },
  {
   "cell_type": "markdown",
   "id": "425d40e5",
   "metadata": {},
   "source": [
    "Vamos desenvolver 3 estratégias de otimização:\n",
    "\n",
    "- Estratégia 1 - Otimizando o Portfólio Com Base nos Valores Passados\n",
    "- Estratégia 2 - Otimizando o Portfólio Com Base nos Valores Futuros Previstos Por IA\n",
    "- Estratégia 3 - Otimizando o Portfólio Com Base nos Valores Futuros Previstos Por IA e Minimização do CVaR"
   ]
  },
  {
   "cell_type": "markdown",
   "id": "e5ae4aee",
   "metadata": {},
   "source": [
    "A otimização de portfólio é um método matemático que é usado para selecionar a melhor alocação de ativos em um portfólio de investimentos. \n",
    "\n",
    "Seu objetivo é maximizar o retorno do portfólio para um determinado nível de risco, ou minimizar o risco para um determinado nível de retorno.\n",
    "\n",
    "A otimização de portfólio é baseada na teoria moderna do portfólio de Harry Markowitz, que afirma que a diversificação pode ajudar os investidores a alcançar um portfólio eficiente, ou seja, um portfólio que oferece o maior retorno possível para um determinado nível de risco.\n",
    "\n",
    "O processo de otimização de portfólio normalmente envolve as seguintes etapas:\n",
    "\n",
    "- Definição dos ativos a serem considerados para inclusão no portfólio.\n",
    "- Estimação do retorno esperado e risco (normalmente medido pelo desvio padrão dos retornos) para cada ativo.\n",
    "- Estimação da correlação (ou covariância) entre os retornos de cada par de ativos.\n",
    "- Seleção da combinação ótima de ativos usando um algoritmo de otimização, que pode ser baseado em programação linear, programação quadrática, ou outras técnicas.\n"
   ]
  },
  {
   "cell_type": "markdown",
   "id": "e5bd7091",
   "metadata": {},
   "source": [
    "A  Teoria  Moderna  do  Portfólio,  também  conhecida  como  Teoria  de Markowitz,  é  um modelo  teórico  sobre  como  os  investidores  racionais  usam  a  diversificação  para  otimizar  seus portfólios ou para obter o máximo retorno esperado com base em um determinado nível de risco de mercado. Essa teoria foi introduzida por Harry Markowitz em 1952 e rendeu a ele o Prêmio Nobel de Economia em 1990. \n",
    "\n",
    "Aqui estão os principais conceitos desta teoria:\n",
    "\n",
    "- **Diversificação:**  Segundo  Markowitz,  os  investidores  podem  reduzir  o  risco  de  seus portfólios, diversificando-os, ou seja, incluindo uma variedade de ativos. Ao ter ativos que não estão  perfeitamente  correlacionados,  as  perdas  em  um  ativo  podem  ser  compensadas  por ganhos em outro.\n",
    "\n",
    "\n",
    "- **Fronteira eficiente:** A teoria de Markowitz introduziu o conceito de \"fronteira eficiente\", que representa as combinações de ativos que oferecem o máximo retorno para um dado nível de  risco,  ou  o  menor  risco  para  um  dado  nível  de  retorno.  Portfólios  que  estão  na  fronteira eficiente são considerados ótimos.\n",
    "\n",
    "\n",
    "- **Composição do portfólio:** A teoria também considera a correlação entre os ativos. Se os ativos se movem juntos (alta correlação), a diversificação pode não reduzir o risco tanto quanto se os ativos se movessem independentemente.\n",
    "\n",
    "\n",
    "- **Risco e retorno:** A Teoria Moderna do Portfólio assume que os investidores são avessos ao  risco  e,  portanto,  se  dois  portfólios  oferecem  o  mesmo  retorno  esperado,  os  investidores escolherão o que tiver menor risco.\n",
    "\n",
    "A Teoria Moderna do Portfólio foi um marco importante na economia e finanças e levou ao desenvolvimento de muitos outros modelos e teorias, incluindo o Modelo de Precificação de Ativos Financeiros (CAPM) e a teoria do mercado eficiente.\n",
    "\n",
    "\n"
   ]
  },
  {
   "cell_type": "markdown",
   "id": "e5289b22",
   "metadata": {},
   "source": [
    "O **Índice de Sharpe** é uma métrica desenvolvida por William F. Sharpe que é usada para ajudar os investidores a entender o retorno de um investimento comparado ao seu risco. **O índice mede o desempenho ajustado ao risco de um investimento.** \n",
    "\n",
    "Para calcular o índice de Sharpe, você subtrai a taxa de retorno livre de risco de um investimento do retorno esperado de um portfólio e, em seguida, divide pelo desvio padrão dos retornos do portfólio. \n",
    "\n",
    "A taxa de retorno livre de risco é o que um investidor poderia esperar ganhar de um investimento absolutamente seguro, como um título do governo.\n",
    "\n",
    "**Fórmula do Índice de Sharpe:**\n",
    "\n",
    "> **Índice de Sharpe = (Retorno do portfólio -Taxa de retorno livre de risco) / Desvio padrão do portfólio** \n",
    "\n",
    "O resultado é um número que indica quanto retorno adicional um investidor pode esperar receber por assumir um risco adicional. Valores mais altos do índice de Sharpe indicam que o investimento tem um melhor retorno ajustado ao risco.\n",
    "\n",
    "No entanto, é importante lembrar que como o índice de Sharpe usa o desvio padrão para medir o risco,  ele  assume  que  os  retornos  são  normalmente  distribuídos.  Ele  também  não diferencia o risco de queda (ou seja, o risco de perdas) do risco de alta (ou seja, a volatilidade dos retornos  positivos).  Portanto,  o  índice  de  Sharpe  pode  não  ser  adequado  para  avaliar investimentos que têm distribuições de retorno distorcidas ou assimétricas."
   ]
  },
  {
   "cell_type": "markdown",
   "id": "c165cfea",
   "metadata": {},
   "source": [
    "## <font color = darkred> Instalando e Carregando os Pacotes </font>"
   ]
  },
  {
   "cell_type": "code",
   "execution_count": 1,
   "id": "e58d6fd2",
   "metadata": {},
   "outputs": [
    {
     "name": "stdout",
     "output_type": "stream",
     "text": [
      "Versão da Linguagem Python Usada Neste Jupyter Notebook: 3.9.13\n"
     ]
    }
   ],
   "source": [
    "# Versão da Linguagem Python\n",
    "from platform import python_version\n",
    "print('Versão da Linguagem Python Usada Neste Jupyter Notebook:', python_version())"
   ]
  },
  {
   "cell_type": "code",
   "execution_count": 2,
   "id": "b762174f",
   "metadata": {},
   "outputs": [],
   "source": [
    "#!pip install -q yfinance"
   ]
  },
  {
   "cell_type": "code",
   "execution_count": 3,
   "id": "c0b0e64e",
   "metadata": {},
   "outputs": [],
   "source": [
    "#!pip install -q PyPortfolioOpt"
   ]
  },
  {
   "cell_type": "markdown",
   "id": "352f158c",
   "metadata": {},
   "source": [
    "https://pyportfolioopt.readthedocs.io/en/latest/index.html"
   ]
  },
  {
   "cell_type": "code",
   "execution_count": 4,
   "id": "8ba2837d",
   "metadata": {},
   "outputs": [],
   "source": [
    "import warnings\n",
    "warnings.filterwarnings('ignore')"
   ]
  },
  {
   "cell_type": "code",
   "execution_count": 5,
   "id": "7cc23d16",
   "metadata": {},
   "outputs": [],
   "source": [
    "# Imports\n",
    "import pandas as pd\n",
    "import numpy as np\n",
    "import yfinance as yf\n",
    "import pypfopt\n",
    "from pypfopt.efficient_frontier import EfficientFrontier\n",
    "from pypfopt import risk_models\n",
    "from pypfopt import expected_returns"
   ]
  },
  {
   "cell_type": "code",
   "execution_count": 6,
   "id": "2bc5f8de",
   "metadata": {},
   "outputs": [
    {
     "name": "stdout",
     "output_type": "stream",
     "text": [
      "Author: Michelle Bouhid\n",
      "\n",
      "pandas  : 1.5.3\n",
      "platform: 1.0.8\n",
      "yfinance: 0.2.44\n",
      "pypfopt : 1.5.5\n",
      "numpy   : 1.23.5\n",
      "\n"
     ]
    }
   ],
   "source": [
    "# Versões dos pacotes usados neste jupyter notebook\n",
    "%reload_ext watermark\n",
    "%watermark -a \"Michelle Bouhid\" --iversions"
   ]
  },
  {
   "cell_type": "code",
   "execution_count": 7,
   "id": "4edb1327",
   "metadata": {},
   "outputs": [],
   "source": [
    "# Definimos as ações que farão parte do nosso portfólio\n",
    "tickers = [\"BTC-USD\", \"SPY\", \"GDX\", \"TLT\", \"BRK-A\", \"XLE\"]"
   ]
  },
  {
   "cell_type": "code",
   "execution_count": 8,
   "id": "a3b0317c",
   "metadata": {},
   "outputs": [
    {
     "name": "stderr",
     "output_type": "stream",
     "text": [
      "[*********************100%***********************]  6 of 6 completed\n"
     ]
    }
   ],
   "source": [
    "# Download dos precos de ações no período de 10 anos\n",
    "precos = yf.download(tickers, start = \"2015-01-01\", end = \"2024-07-01\")"
   ]
  },
  {
   "cell_type": "code",
   "execution_count": 9,
   "id": "43f6e3bf",
   "metadata": {},
   "outputs": [
    {
     "data": {
      "text/html": [
       "<div>\n",
       "<style scoped>\n",
       "    .dataframe tbody tr th:only-of-type {\n",
       "        vertical-align: middle;\n",
       "    }\n",
       "\n",
       "    .dataframe tbody tr th {\n",
       "        vertical-align: top;\n",
       "    }\n",
       "\n",
       "    .dataframe thead tr th {\n",
       "        text-align: left;\n",
       "    }\n",
       "\n",
       "    .dataframe thead tr:last-of-type th {\n",
       "        text-align: right;\n",
       "    }\n",
       "</style>\n",
       "<table border=\"1\" class=\"dataframe\">\n",
       "  <thead>\n",
       "    <tr>\n",
       "      <th>Price</th>\n",
       "      <th colspan=\"6\" halign=\"left\">Adj Close</th>\n",
       "      <th colspan=\"4\" halign=\"left\">Close</th>\n",
       "      <th>...</th>\n",
       "      <th colspan=\"4\" halign=\"left\">Open</th>\n",
       "      <th colspan=\"6\" halign=\"left\">Volume</th>\n",
       "    </tr>\n",
       "    <tr>\n",
       "      <th>Ticker</th>\n",
       "      <th>BRK-A</th>\n",
       "      <th>BTC-USD</th>\n",
       "      <th>GDX</th>\n",
       "      <th>SPY</th>\n",
       "      <th>TLT</th>\n",
       "      <th>XLE</th>\n",
       "      <th>BRK-A</th>\n",
       "      <th>BTC-USD</th>\n",
       "      <th>GDX</th>\n",
       "      <th>SPY</th>\n",
       "      <th>...</th>\n",
       "      <th>GDX</th>\n",
       "      <th>SPY</th>\n",
       "      <th>TLT</th>\n",
       "      <th>XLE</th>\n",
       "      <th>BRK-A</th>\n",
       "      <th>BTC-USD</th>\n",
       "      <th>GDX</th>\n",
       "      <th>SPY</th>\n",
       "      <th>TLT</th>\n",
       "      <th>XLE</th>\n",
       "    </tr>\n",
       "    <tr>\n",
       "      <th>Date</th>\n",
       "      <th></th>\n",
       "      <th></th>\n",
       "      <th></th>\n",
       "      <th></th>\n",
       "      <th></th>\n",
       "      <th></th>\n",
       "      <th></th>\n",
       "      <th></th>\n",
       "      <th></th>\n",
       "      <th></th>\n",
       "      <th></th>\n",
       "      <th></th>\n",
       "      <th></th>\n",
       "      <th></th>\n",
       "      <th></th>\n",
       "      <th></th>\n",
       "      <th></th>\n",
       "      <th></th>\n",
       "      <th></th>\n",
       "      <th></th>\n",
       "      <th></th>\n",
       "    </tr>\n",
       "  </thead>\n",
       "  <tbody>\n",
       "    <tr>\n",
       "      <th>2015-01-01 00:00:00+00:00</th>\n",
       "      <td>NaN</td>\n",
       "      <td>314.248993</td>\n",
       "      <td>NaN</td>\n",
       "      <td>NaN</td>\n",
       "      <td>NaN</td>\n",
       "      <td>NaN</td>\n",
       "      <td>NaN</td>\n",
       "      <td>314.248993</td>\n",
       "      <td>NaN</td>\n",
       "      <td>NaN</td>\n",
       "      <td>...</td>\n",
       "      <td>NaN</td>\n",
       "      <td>NaN</td>\n",
       "      <td>NaN</td>\n",
       "      <td>NaN</td>\n",
       "      <td>NaN</td>\n",
       "      <td>8036550</td>\n",
       "      <td>NaN</td>\n",
       "      <td>NaN</td>\n",
       "      <td>NaN</td>\n",
       "      <td>NaN</td>\n",
       "    </tr>\n",
       "    <tr>\n",
       "      <th>2015-01-02 00:00:00+00:00</th>\n",
       "      <td>223600.0</td>\n",
       "      <td>315.032013</td>\n",
       "      <td>17.354591</td>\n",
       "      <td>173.173767</td>\n",
       "      <td>100.043983</td>\n",
       "      <td>53.593723</td>\n",
       "      <td>223600.0</td>\n",
       "      <td>315.032013</td>\n",
       "      <td>18.940001</td>\n",
       "      <td>205.429993</td>\n",
       "      <td>...</td>\n",
       "      <td>18.070000</td>\n",
       "      <td>206.380005</td>\n",
       "      <td>126.290001</td>\n",
       "      <td>78.730003</td>\n",
       "      <td>300.0</td>\n",
       "      <td>7860650</td>\n",
       "      <td>47287400.0</td>\n",
       "      <td>121465900.0</td>\n",
       "      <td>9432000.0</td>\n",
       "      <td>27749100.0</td>\n",
       "    </tr>\n",
       "    <tr>\n",
       "      <th>2015-01-03 00:00:00+00:00</th>\n",
       "      <td>NaN</td>\n",
       "      <td>281.082001</td>\n",
       "      <td>NaN</td>\n",
       "      <td>NaN</td>\n",
       "      <td>NaN</td>\n",
       "      <td>NaN</td>\n",
       "      <td>NaN</td>\n",
       "      <td>281.082001</td>\n",
       "      <td>NaN</td>\n",
       "      <td>NaN</td>\n",
       "      <td>...</td>\n",
       "      <td>NaN</td>\n",
       "      <td>NaN</td>\n",
       "      <td>NaN</td>\n",
       "      <td>NaN</td>\n",
       "      <td>NaN</td>\n",
       "      <td>33054400</td>\n",
       "      <td>NaN</td>\n",
       "      <td>NaN</td>\n",
       "      <td>NaN</td>\n",
       "      <td>NaN</td>\n",
       "    </tr>\n",
       "    <tr>\n",
       "      <th>2015-01-04 00:00:00+00:00</th>\n",
       "      <td>NaN</td>\n",
       "      <td>264.195007</td>\n",
       "      <td>NaN</td>\n",
       "      <td>NaN</td>\n",
       "      <td>NaN</td>\n",
       "      <td>NaN</td>\n",
       "      <td>NaN</td>\n",
       "      <td>264.195007</td>\n",
       "      <td>NaN</td>\n",
       "      <td>NaN</td>\n",
       "      <td>...</td>\n",
       "      <td>NaN</td>\n",
       "      <td>NaN</td>\n",
       "      <td>NaN</td>\n",
       "      <td>NaN</td>\n",
       "      <td>NaN</td>\n",
       "      <td>55629100</td>\n",
       "      <td>NaN</td>\n",
       "      <td>NaN</td>\n",
       "      <td>NaN</td>\n",
       "      <td>NaN</td>\n",
       "    </tr>\n",
       "    <tr>\n",
       "      <th>2015-01-05 00:00:00+00:00</th>\n",
       "      <td>220980.0</td>\n",
       "      <td>274.473999</td>\n",
       "      <td>17.812740</td>\n",
       "      <td>170.046341</td>\n",
       "      <td>101.615562</td>\n",
       "      <td>51.376640</td>\n",
       "      <td>220980.0</td>\n",
       "      <td>274.473999</td>\n",
       "      <td>19.440001</td>\n",
       "      <td>201.720001</td>\n",
       "      <td>...</td>\n",
       "      <td>19.059999</td>\n",
       "      <td>204.169998</td>\n",
       "      <td>128.009995</td>\n",
       "      <td>78.419998</td>\n",
       "      <td>500.0</td>\n",
       "      <td>43962800</td>\n",
       "      <td>46021100.0</td>\n",
       "      <td>169632600.0</td>\n",
       "      <td>9789500.0</td>\n",
       "      <td>45395200.0</td>\n",
       "    </tr>\n",
       "    <tr>\n",
       "      <th>...</th>\n",
       "      <td>...</td>\n",
       "      <td>...</td>\n",
       "      <td>...</td>\n",
       "      <td>...</td>\n",
       "      <td>...</td>\n",
       "      <td>...</td>\n",
       "      <td>...</td>\n",
       "      <td>...</td>\n",
       "      <td>...</td>\n",
       "      <td>...</td>\n",
       "      <td>...</td>\n",
       "      <td>...</td>\n",
       "      <td>...</td>\n",
       "      <td>...</td>\n",
       "      <td>...</td>\n",
       "      <td>...</td>\n",
       "      <td>...</td>\n",
       "      <td>...</td>\n",
       "      <td>...</td>\n",
       "      <td>...</td>\n",
       "      <td>...</td>\n",
       "    </tr>\n",
       "    <tr>\n",
       "      <th>2024-06-26 00:00:00+00:00</th>\n",
       "      <td>617071.0</td>\n",
       "      <td>60811.277344</td>\n",
       "      <td>33.820000</td>\n",
       "      <td>543.841919</td>\n",
       "      <td>91.948807</td>\n",
       "      <td>89.848007</td>\n",
       "      <td>617071.0</td>\n",
       "      <td>60811.277344</td>\n",
       "      <td>33.820000</td>\n",
       "      <td>545.510010</td>\n",
       "      <td>...</td>\n",
       "      <td>33.349998</td>\n",
       "      <td>543.690002</td>\n",
       "      <td>93.279999</td>\n",
       "      <td>91.589996</td>\n",
       "      <td>1500.0</td>\n",
       "      <td>22506003064</td>\n",
       "      <td>13325500.0</td>\n",
       "      <td>38550600.0</td>\n",
       "      <td>38489100.0</td>\n",
       "      <td>11563700.0</td>\n",
       "    </tr>\n",
       "    <tr>\n",
       "      <th>2024-06-27 00:00:00+00:00</th>\n",
       "      <td>615000.0</td>\n",
       "      <td>61604.800781</td>\n",
       "      <td>34.230000</td>\n",
       "      <td>544.699280</td>\n",
       "      <td>92.314026</td>\n",
       "      <td>90.056297</td>\n",
       "      <td>615000.0</td>\n",
       "      <td>61604.800781</td>\n",
       "      <td>34.230000</td>\n",
       "      <td>546.369995</td>\n",
       "      <td>...</td>\n",
       "      <td>34.200001</td>\n",
       "      <td>545.369995</td>\n",
       "      <td>93.519997</td>\n",
       "      <td>91.070000</td>\n",
       "      <td>2300.0</td>\n",
       "      <td>21231745045</td>\n",
       "      <td>11931000.0</td>\n",
       "      <td>35041500.0</td>\n",
       "      <td>23140800.0</td>\n",
       "      <td>7815800.0</td>\n",
       "    </tr>\n",
       "    <tr>\n",
       "      <th>2024-06-28 00:00:00+00:00</th>\n",
       "      <td>612241.0</td>\n",
       "      <td>60320.136719</td>\n",
       "      <td>33.930000</td>\n",
       "      <td>542.555786</td>\n",
       "      <td>90.596474</td>\n",
       "      <td>90.403427</td>\n",
       "      <td>612241.0</td>\n",
       "      <td>60320.136719</td>\n",
       "      <td>33.930000</td>\n",
       "      <td>544.219971</td>\n",
       "      <td>...</td>\n",
       "      <td>34.500000</td>\n",
       "      <td>547.159973</td>\n",
       "      <td>93.730003</td>\n",
       "      <td>91.500000</td>\n",
       "      <td>1600.0</td>\n",
       "      <td>24952866877</td>\n",
       "      <td>15818700.0</td>\n",
       "      <td>76144500.0</td>\n",
       "      <td>55119600.0</td>\n",
       "      <td>12835000.0</td>\n",
       "    </tr>\n",
       "    <tr>\n",
       "      <th>2024-06-29 00:00:00+00:00</th>\n",
       "      <td>NaN</td>\n",
       "      <td>60887.378906</td>\n",
       "      <td>NaN</td>\n",
       "      <td>NaN</td>\n",
       "      <td>NaN</td>\n",
       "      <td>NaN</td>\n",
       "      <td>NaN</td>\n",
       "      <td>60887.378906</td>\n",
       "      <td>NaN</td>\n",
       "      <td>NaN</td>\n",
       "      <td>...</td>\n",
       "      <td>NaN</td>\n",
       "      <td>NaN</td>\n",
       "      <td>NaN</td>\n",
       "      <td>NaN</td>\n",
       "      <td>NaN</td>\n",
       "      <td>12652903396</td>\n",
       "      <td>NaN</td>\n",
       "      <td>NaN</td>\n",
       "      <td>NaN</td>\n",
       "      <td>NaN</td>\n",
       "    </tr>\n",
       "    <tr>\n",
       "      <th>2024-06-30 00:00:00+00:00</th>\n",
       "      <td>NaN</td>\n",
       "      <td>62678.292969</td>\n",
       "      <td>NaN</td>\n",
       "      <td>NaN</td>\n",
       "      <td>NaN</td>\n",
       "      <td>NaN</td>\n",
       "      <td>NaN</td>\n",
       "      <td>62678.292969</td>\n",
       "      <td>NaN</td>\n",
       "      <td>NaN</td>\n",
       "      <td>...</td>\n",
       "      <td>NaN</td>\n",
       "      <td>NaN</td>\n",
       "      <td>NaN</td>\n",
       "      <td>NaN</td>\n",
       "      <td>NaN</td>\n",
       "      <td>17333226409</td>\n",
       "      <td>NaN</td>\n",
       "      <td>NaN</td>\n",
       "      <td>NaN</td>\n",
       "      <td>NaN</td>\n",
       "    </tr>\n",
       "  </tbody>\n",
       "</table>\n",
       "<p>3469 rows × 36 columns</p>\n",
       "</div>"
      ],
      "text/plain": [
       "Price                     Adj Close                                       \\\n",
       "Ticker                        BRK-A       BTC-USD        GDX         SPY   \n",
       "Date                                                                       \n",
       "2015-01-01 00:00:00+00:00       NaN    314.248993        NaN         NaN   \n",
       "2015-01-02 00:00:00+00:00  223600.0    315.032013  17.354591  173.173767   \n",
       "2015-01-03 00:00:00+00:00       NaN    281.082001        NaN         NaN   \n",
       "2015-01-04 00:00:00+00:00       NaN    264.195007        NaN         NaN   \n",
       "2015-01-05 00:00:00+00:00  220980.0    274.473999  17.812740  170.046341   \n",
       "...                             ...           ...        ...         ...   \n",
       "2024-06-26 00:00:00+00:00  617071.0  60811.277344  33.820000  543.841919   \n",
       "2024-06-27 00:00:00+00:00  615000.0  61604.800781  34.230000  544.699280   \n",
       "2024-06-28 00:00:00+00:00  612241.0  60320.136719  33.930000  542.555786   \n",
       "2024-06-29 00:00:00+00:00       NaN  60887.378906        NaN         NaN   \n",
       "2024-06-30 00:00:00+00:00       NaN  62678.292969        NaN         NaN   \n",
       "\n",
       "Price                                                Close                \\\n",
       "Ticker                            TLT        XLE     BRK-A       BTC-USD   \n",
       "Date                                                                       \n",
       "2015-01-01 00:00:00+00:00         NaN        NaN       NaN    314.248993   \n",
       "2015-01-02 00:00:00+00:00  100.043983  53.593723  223600.0    315.032013   \n",
       "2015-01-03 00:00:00+00:00         NaN        NaN       NaN    281.082001   \n",
       "2015-01-04 00:00:00+00:00         NaN        NaN       NaN    264.195007   \n",
       "2015-01-05 00:00:00+00:00  101.615562  51.376640  220980.0    274.473999   \n",
       "...                               ...        ...       ...           ...   \n",
       "2024-06-26 00:00:00+00:00   91.948807  89.848007  617071.0  60811.277344   \n",
       "2024-06-27 00:00:00+00:00   92.314026  90.056297  615000.0  61604.800781   \n",
       "2024-06-28 00:00:00+00:00   90.596474  90.403427  612241.0  60320.136719   \n",
       "2024-06-29 00:00:00+00:00         NaN        NaN       NaN  60887.378906   \n",
       "2024-06-30 00:00:00+00:00         NaN        NaN       NaN  62678.292969   \n",
       "\n",
       "Price                                             ...       Open              \\\n",
       "Ticker                           GDX         SPY  ...        GDX         SPY   \n",
       "Date                                              ...                          \n",
       "2015-01-01 00:00:00+00:00        NaN         NaN  ...        NaN         NaN   \n",
       "2015-01-02 00:00:00+00:00  18.940001  205.429993  ...  18.070000  206.380005   \n",
       "2015-01-03 00:00:00+00:00        NaN         NaN  ...        NaN         NaN   \n",
       "2015-01-04 00:00:00+00:00        NaN         NaN  ...        NaN         NaN   \n",
       "2015-01-05 00:00:00+00:00  19.440001  201.720001  ...  19.059999  204.169998   \n",
       "...                              ...         ...  ...        ...         ...   \n",
       "2024-06-26 00:00:00+00:00  33.820000  545.510010  ...  33.349998  543.690002   \n",
       "2024-06-27 00:00:00+00:00  34.230000  546.369995  ...  34.200001  545.369995   \n",
       "2024-06-28 00:00:00+00:00  33.930000  544.219971  ...  34.500000  547.159973   \n",
       "2024-06-29 00:00:00+00:00        NaN         NaN  ...        NaN         NaN   \n",
       "2024-06-30 00:00:00+00:00        NaN         NaN  ...        NaN         NaN   \n",
       "\n",
       "Price                                             Volume               \\\n",
       "Ticker                            TLT        XLE   BRK-A      BTC-USD   \n",
       "Date                                                                    \n",
       "2015-01-01 00:00:00+00:00         NaN        NaN     NaN      8036550   \n",
       "2015-01-02 00:00:00+00:00  126.290001  78.730003   300.0      7860650   \n",
       "2015-01-03 00:00:00+00:00         NaN        NaN     NaN     33054400   \n",
       "2015-01-04 00:00:00+00:00         NaN        NaN     NaN     55629100   \n",
       "2015-01-05 00:00:00+00:00  128.009995  78.419998   500.0     43962800   \n",
       "...                               ...        ...     ...          ...   \n",
       "2024-06-26 00:00:00+00:00   93.279999  91.589996  1500.0  22506003064   \n",
       "2024-06-27 00:00:00+00:00   93.519997  91.070000  2300.0  21231745045   \n",
       "2024-06-28 00:00:00+00:00   93.730003  91.500000  1600.0  24952866877   \n",
       "2024-06-29 00:00:00+00:00         NaN        NaN     NaN  12652903396   \n",
       "2024-06-30 00:00:00+00:00         NaN        NaN     NaN  17333226409   \n",
       "\n",
       "Price                                                                       \n",
       "Ticker                            GDX          SPY         TLT         XLE  \n",
       "Date                                                                        \n",
       "2015-01-01 00:00:00+00:00         NaN          NaN         NaN         NaN  \n",
       "2015-01-02 00:00:00+00:00  47287400.0  121465900.0   9432000.0  27749100.0  \n",
       "2015-01-03 00:00:00+00:00         NaN          NaN         NaN         NaN  \n",
       "2015-01-04 00:00:00+00:00         NaN          NaN         NaN         NaN  \n",
       "2015-01-05 00:00:00+00:00  46021100.0  169632600.0   9789500.0  45395200.0  \n",
       "...                               ...          ...         ...         ...  \n",
       "2024-06-26 00:00:00+00:00  13325500.0   38550600.0  38489100.0  11563700.0  \n",
       "2024-06-27 00:00:00+00:00  11931000.0   35041500.0  23140800.0   7815800.0  \n",
       "2024-06-28 00:00:00+00:00  15818700.0   76144500.0  55119600.0  12835000.0  \n",
       "2024-06-29 00:00:00+00:00         NaN          NaN         NaN         NaN  \n",
       "2024-06-30 00:00:00+00:00         NaN          NaN         NaN         NaN  \n",
       "\n",
       "[3469 rows x 36 columns]"
      ]
     },
     "execution_count": 9,
     "metadata": {},
     "output_type": "execute_result"
    }
   ],
   "source": [
    "precos"
   ]
  },
  {
   "cell_type": "markdown",
   "id": "e55eecad",
   "metadata": {},
   "source": [
    "Preço de Fechamento: Refere-se ao valor final de uma ação no final do pregão. É o último preço em que a ação foi negociada naquele dia.\n",
    "\n",
    "Fechamento Ajustado: Considera o preço de fechamento, mas ajusta para eventos corporativos, como dividendos, desdobramentos (splits) ou agrupamentos (reverse splits). Ele reflete o valor ajustado para esses eventos, oferecendo uma visão mais precisa do retorno total da ação ao longo do tempo."
   ]
  },
  {
   "cell_type": "code",
   "execution_count": 10,
   "id": "98615751",
   "metadata": {},
   "outputs": [],
   "source": [
    "# Usaremos apenas os preços de fechamento ajustados\n",
    "precos = precos[\"Adj Close\"]"
   ]
  },
  {
   "cell_type": "code",
   "execution_count": 11,
   "id": "739d7319",
   "metadata": {},
   "outputs": [
    {
     "data": {
      "text/html": [
       "<div>\n",
       "<style scoped>\n",
       "    .dataframe tbody tr th:only-of-type {\n",
       "        vertical-align: middle;\n",
       "    }\n",
       "\n",
       "    .dataframe tbody tr th {\n",
       "        vertical-align: top;\n",
       "    }\n",
       "\n",
       "    .dataframe thead th {\n",
       "        text-align: right;\n",
       "    }\n",
       "</style>\n",
       "<table border=\"1\" class=\"dataframe\">\n",
       "  <thead>\n",
       "    <tr style=\"text-align: right;\">\n",
       "      <th>Ticker</th>\n",
       "      <th>BRK-A</th>\n",
       "      <th>BTC-USD</th>\n",
       "      <th>GDX</th>\n",
       "      <th>SPY</th>\n",
       "      <th>TLT</th>\n",
       "      <th>XLE</th>\n",
       "    </tr>\n",
       "    <tr>\n",
       "      <th>Date</th>\n",
       "      <th></th>\n",
       "      <th></th>\n",
       "      <th></th>\n",
       "      <th></th>\n",
       "      <th></th>\n",
       "      <th></th>\n",
       "    </tr>\n",
       "  </thead>\n",
       "  <tbody>\n",
       "    <tr>\n",
       "      <th>2015-01-01 00:00:00+00:00</th>\n",
       "      <td>NaN</td>\n",
       "      <td>314.248993</td>\n",
       "      <td>NaN</td>\n",
       "      <td>NaN</td>\n",
       "      <td>NaN</td>\n",
       "      <td>NaN</td>\n",
       "    </tr>\n",
       "    <tr>\n",
       "      <th>2015-01-02 00:00:00+00:00</th>\n",
       "      <td>223600.0</td>\n",
       "      <td>315.032013</td>\n",
       "      <td>17.354591</td>\n",
       "      <td>173.173767</td>\n",
       "      <td>100.043983</td>\n",
       "      <td>53.593723</td>\n",
       "    </tr>\n",
       "    <tr>\n",
       "      <th>2015-01-03 00:00:00+00:00</th>\n",
       "      <td>NaN</td>\n",
       "      <td>281.082001</td>\n",
       "      <td>NaN</td>\n",
       "      <td>NaN</td>\n",
       "      <td>NaN</td>\n",
       "      <td>NaN</td>\n",
       "    </tr>\n",
       "    <tr>\n",
       "      <th>2015-01-04 00:00:00+00:00</th>\n",
       "      <td>NaN</td>\n",
       "      <td>264.195007</td>\n",
       "      <td>NaN</td>\n",
       "      <td>NaN</td>\n",
       "      <td>NaN</td>\n",
       "      <td>NaN</td>\n",
       "    </tr>\n",
       "    <tr>\n",
       "      <th>2015-01-05 00:00:00+00:00</th>\n",
       "      <td>220980.0</td>\n",
       "      <td>274.473999</td>\n",
       "      <td>17.812740</td>\n",
       "      <td>170.046341</td>\n",
       "      <td>101.615562</td>\n",
       "      <td>51.376640</td>\n",
       "    </tr>\n",
       "    <tr>\n",
       "      <th>...</th>\n",
       "      <td>...</td>\n",
       "      <td>...</td>\n",
       "      <td>...</td>\n",
       "      <td>...</td>\n",
       "      <td>...</td>\n",
       "      <td>...</td>\n",
       "    </tr>\n",
       "    <tr>\n",
       "      <th>2024-06-26 00:00:00+00:00</th>\n",
       "      <td>617071.0</td>\n",
       "      <td>60811.277344</td>\n",
       "      <td>33.820000</td>\n",
       "      <td>543.841919</td>\n",
       "      <td>91.948807</td>\n",
       "      <td>89.848007</td>\n",
       "    </tr>\n",
       "    <tr>\n",
       "      <th>2024-06-27 00:00:00+00:00</th>\n",
       "      <td>615000.0</td>\n",
       "      <td>61604.800781</td>\n",
       "      <td>34.230000</td>\n",
       "      <td>544.699280</td>\n",
       "      <td>92.314026</td>\n",
       "      <td>90.056297</td>\n",
       "    </tr>\n",
       "    <tr>\n",
       "      <th>2024-06-28 00:00:00+00:00</th>\n",
       "      <td>612241.0</td>\n",
       "      <td>60320.136719</td>\n",
       "      <td>33.930000</td>\n",
       "      <td>542.555786</td>\n",
       "      <td>90.596474</td>\n",
       "      <td>90.403427</td>\n",
       "    </tr>\n",
       "    <tr>\n",
       "      <th>2024-06-29 00:00:00+00:00</th>\n",
       "      <td>NaN</td>\n",
       "      <td>60887.378906</td>\n",
       "      <td>NaN</td>\n",
       "      <td>NaN</td>\n",
       "      <td>NaN</td>\n",
       "      <td>NaN</td>\n",
       "    </tr>\n",
       "    <tr>\n",
       "      <th>2024-06-30 00:00:00+00:00</th>\n",
       "      <td>NaN</td>\n",
       "      <td>62678.292969</td>\n",
       "      <td>NaN</td>\n",
       "      <td>NaN</td>\n",
       "      <td>NaN</td>\n",
       "      <td>NaN</td>\n",
       "    </tr>\n",
       "  </tbody>\n",
       "</table>\n",
       "<p>3469 rows × 6 columns</p>\n",
       "</div>"
      ],
      "text/plain": [
       "Ticker                        BRK-A       BTC-USD        GDX         SPY  \\\n",
       "Date                                                                       \n",
       "2015-01-01 00:00:00+00:00       NaN    314.248993        NaN         NaN   \n",
       "2015-01-02 00:00:00+00:00  223600.0    315.032013  17.354591  173.173767   \n",
       "2015-01-03 00:00:00+00:00       NaN    281.082001        NaN         NaN   \n",
       "2015-01-04 00:00:00+00:00       NaN    264.195007        NaN         NaN   \n",
       "2015-01-05 00:00:00+00:00  220980.0    274.473999  17.812740  170.046341   \n",
       "...                             ...           ...        ...         ...   \n",
       "2024-06-26 00:00:00+00:00  617071.0  60811.277344  33.820000  543.841919   \n",
       "2024-06-27 00:00:00+00:00  615000.0  61604.800781  34.230000  544.699280   \n",
       "2024-06-28 00:00:00+00:00  612241.0  60320.136719  33.930000  542.555786   \n",
       "2024-06-29 00:00:00+00:00       NaN  60887.378906        NaN         NaN   \n",
       "2024-06-30 00:00:00+00:00       NaN  62678.292969        NaN         NaN   \n",
       "\n",
       "Ticker                            TLT        XLE  \n",
       "Date                                              \n",
       "2015-01-01 00:00:00+00:00         NaN        NaN  \n",
       "2015-01-02 00:00:00+00:00  100.043983  53.593723  \n",
       "2015-01-03 00:00:00+00:00         NaN        NaN  \n",
       "2015-01-04 00:00:00+00:00         NaN        NaN  \n",
       "2015-01-05 00:00:00+00:00  101.615562  51.376640  \n",
       "...                               ...        ...  \n",
       "2024-06-26 00:00:00+00:00   91.948807  89.848007  \n",
       "2024-06-27 00:00:00+00:00   92.314026  90.056297  \n",
       "2024-06-28 00:00:00+00:00   90.596474  90.403427  \n",
       "2024-06-29 00:00:00+00:00         NaN        NaN  \n",
       "2024-06-30 00:00:00+00:00         NaN        NaN  \n",
       "\n",
       "[3469 rows x 6 columns]"
      ]
     },
     "execution_count": 11,
     "metadata": {},
     "output_type": "execute_result"
    }
   ],
   "source": [
    "precos"
   ]
  },
  {
   "cell_type": "code",
   "execution_count": 12,
   "id": "91cea970",
   "metadata": {},
   "outputs": [
    {
     "data": {
      "text/html": [
       "<div>\n",
       "<style scoped>\n",
       "    .dataframe tbody tr th:only-of-type {\n",
       "        vertical-align: middle;\n",
       "    }\n",
       "\n",
       "    .dataframe tbody tr th {\n",
       "        vertical-align: top;\n",
       "    }\n",
       "\n",
       "    .dataframe thead th {\n",
       "        text-align: right;\n",
       "    }\n",
       "</style>\n",
       "<table border=\"1\" class=\"dataframe\">\n",
       "  <thead>\n",
       "    <tr style=\"text-align: right;\">\n",
       "      <th>Ticker</th>\n",
       "      <th>BRK-A</th>\n",
       "      <th>BTC-USD</th>\n",
       "      <th>GDX</th>\n",
       "      <th>SPY</th>\n",
       "      <th>TLT</th>\n",
       "      <th>XLE</th>\n",
       "    </tr>\n",
       "    <tr>\n",
       "      <th>Date</th>\n",
       "      <th></th>\n",
       "      <th></th>\n",
       "      <th></th>\n",
       "      <th></th>\n",
       "      <th></th>\n",
       "      <th></th>\n",
       "    </tr>\n",
       "  </thead>\n",
       "  <tbody>\n",
       "    <tr>\n",
       "      <th>2015</th>\n",
       "      <td>113</td>\n",
       "      <td>0</td>\n",
       "      <td>113</td>\n",
       "      <td>113</td>\n",
       "      <td>113</td>\n",
       "      <td>113</td>\n",
       "    </tr>\n",
       "    <tr>\n",
       "      <th>2016</th>\n",
       "      <td>114</td>\n",
       "      <td>0</td>\n",
       "      <td>114</td>\n",
       "      <td>114</td>\n",
       "      <td>114</td>\n",
       "      <td>114</td>\n",
       "    </tr>\n",
       "    <tr>\n",
       "      <th>2017</th>\n",
       "      <td>114</td>\n",
       "      <td>0</td>\n",
       "      <td>114</td>\n",
       "      <td>114</td>\n",
       "      <td>114</td>\n",
       "      <td>114</td>\n",
       "    </tr>\n",
       "    <tr>\n",
       "      <th>2018</th>\n",
       "      <td>114</td>\n",
       "      <td>0</td>\n",
       "      <td>114</td>\n",
       "      <td>114</td>\n",
       "      <td>114</td>\n",
       "      <td>114</td>\n",
       "    </tr>\n",
       "    <tr>\n",
       "      <th>2019</th>\n",
       "      <td>113</td>\n",
       "      <td>0</td>\n",
       "      <td>113</td>\n",
       "      <td>113</td>\n",
       "      <td>113</td>\n",
       "      <td>113</td>\n",
       "    </tr>\n",
       "    <tr>\n",
       "      <th>2020</th>\n",
       "      <td>113</td>\n",
       "      <td>0</td>\n",
       "      <td>113</td>\n",
       "      <td>113</td>\n",
       "      <td>113</td>\n",
       "      <td>113</td>\n",
       "    </tr>\n",
       "    <tr>\n",
       "      <th>2021</th>\n",
       "      <td>113</td>\n",
       "      <td>0</td>\n",
       "      <td>113</td>\n",
       "      <td>113</td>\n",
       "      <td>113</td>\n",
       "      <td>113</td>\n",
       "    </tr>\n",
       "    <tr>\n",
       "      <th>2022</th>\n",
       "      <td>114</td>\n",
       "      <td>0</td>\n",
       "      <td>114</td>\n",
       "      <td>114</td>\n",
       "      <td>114</td>\n",
       "      <td>114</td>\n",
       "    </tr>\n",
       "    <tr>\n",
       "      <th>2023</th>\n",
       "      <td>115</td>\n",
       "      <td>0</td>\n",
       "      <td>115</td>\n",
       "      <td>115</td>\n",
       "      <td>115</td>\n",
       "      <td>115</td>\n",
       "    </tr>\n",
       "    <tr>\n",
       "      <th>2024</th>\n",
       "      <td>58</td>\n",
       "      <td>0</td>\n",
       "      <td>58</td>\n",
       "      <td>58</td>\n",
       "      <td>58</td>\n",
       "      <td>58</td>\n",
       "    </tr>\n",
       "  </tbody>\n",
       "</table>\n",
       "</div>"
      ],
      "text/plain": [
       "Ticker  BRK-A  BTC-USD  GDX  SPY  TLT  XLE\n",
       "Date                                      \n",
       "2015      113        0  113  113  113  113\n",
       "2016      114        0  114  114  114  114\n",
       "2017      114        0  114  114  114  114\n",
       "2018      114        0  114  114  114  114\n",
       "2019      113        0  113  113  113  113\n",
       "2020      113        0  113  113  113  113\n",
       "2021      113        0  113  113  113  113\n",
       "2022      114        0  114  114  114  114\n",
       "2023      115        0  115  115  115  115\n",
       "2024       58        0   58   58   58   58"
      ]
     },
     "execution_count": 12,
     "metadata": {},
     "output_type": "execute_result"
    }
   ],
   "source": [
    "# Agrupa por ano usando o index diretamente e conta o número de NaN em cada coluna\n",
    "nan_por_ano = precos.groupby(precos.index.year).apply(lambda x: x.isna().sum())\n",
    "\n",
    "# Exibe o resultado\n",
    "nan_por_ano"
   ]
  },
  {
   "cell_type": "code",
   "execution_count": 13,
   "id": "eb34be5e",
   "metadata": {},
   "outputs": [],
   "source": [
    "# Verificamos se há algum valor faltante e, se houver, preenchemos com o valor anterior (forward fill)\n",
    "precos = precos.fillna(method = 'ffill')"
   ]
  },
  {
   "cell_type": "code",
   "execution_count": 14,
   "id": "11f307b2",
   "metadata": {},
   "outputs": [
    {
     "data": {
      "text/html": [
       "<div>\n",
       "<style scoped>\n",
       "    .dataframe tbody tr th:only-of-type {\n",
       "        vertical-align: middle;\n",
       "    }\n",
       "\n",
       "    .dataframe tbody tr th {\n",
       "        vertical-align: top;\n",
       "    }\n",
       "\n",
       "    .dataframe thead th {\n",
       "        text-align: right;\n",
       "    }\n",
       "</style>\n",
       "<table border=\"1\" class=\"dataframe\">\n",
       "  <thead>\n",
       "    <tr style=\"text-align: right;\">\n",
       "      <th>Ticker</th>\n",
       "      <th>BRK-A</th>\n",
       "      <th>BTC-USD</th>\n",
       "      <th>GDX</th>\n",
       "      <th>SPY</th>\n",
       "      <th>TLT</th>\n",
       "      <th>XLE</th>\n",
       "    </tr>\n",
       "    <tr>\n",
       "      <th>Date</th>\n",
       "      <th></th>\n",
       "      <th></th>\n",
       "      <th></th>\n",
       "      <th></th>\n",
       "      <th></th>\n",
       "      <th></th>\n",
       "    </tr>\n",
       "  </thead>\n",
       "  <tbody>\n",
       "    <tr>\n",
       "      <th>2015-01-01 00:00:00+00:00</th>\n",
       "      <td>True</td>\n",
       "      <td>False</td>\n",
       "      <td>True</td>\n",
       "      <td>True</td>\n",
       "      <td>True</td>\n",
       "      <td>True</td>\n",
       "    </tr>\n",
       "    <tr>\n",
       "      <th>2015-01-02 00:00:00+00:00</th>\n",
       "      <td>False</td>\n",
       "      <td>False</td>\n",
       "      <td>False</td>\n",
       "      <td>False</td>\n",
       "      <td>False</td>\n",
       "      <td>False</td>\n",
       "    </tr>\n",
       "    <tr>\n",
       "      <th>2015-01-03 00:00:00+00:00</th>\n",
       "      <td>False</td>\n",
       "      <td>False</td>\n",
       "      <td>False</td>\n",
       "      <td>False</td>\n",
       "      <td>False</td>\n",
       "      <td>False</td>\n",
       "    </tr>\n",
       "    <tr>\n",
       "      <th>2015-01-04 00:00:00+00:00</th>\n",
       "      <td>False</td>\n",
       "      <td>False</td>\n",
       "      <td>False</td>\n",
       "      <td>False</td>\n",
       "      <td>False</td>\n",
       "      <td>False</td>\n",
       "    </tr>\n",
       "    <tr>\n",
       "      <th>2015-01-05 00:00:00+00:00</th>\n",
       "      <td>False</td>\n",
       "      <td>False</td>\n",
       "      <td>False</td>\n",
       "      <td>False</td>\n",
       "      <td>False</td>\n",
       "      <td>False</td>\n",
       "    </tr>\n",
       "    <tr>\n",
       "      <th>...</th>\n",
       "      <td>...</td>\n",
       "      <td>...</td>\n",
       "      <td>...</td>\n",
       "      <td>...</td>\n",
       "      <td>...</td>\n",
       "      <td>...</td>\n",
       "    </tr>\n",
       "    <tr>\n",
       "      <th>2024-06-26 00:00:00+00:00</th>\n",
       "      <td>False</td>\n",
       "      <td>False</td>\n",
       "      <td>False</td>\n",
       "      <td>False</td>\n",
       "      <td>False</td>\n",
       "      <td>False</td>\n",
       "    </tr>\n",
       "    <tr>\n",
       "      <th>2024-06-27 00:00:00+00:00</th>\n",
       "      <td>False</td>\n",
       "      <td>False</td>\n",
       "      <td>False</td>\n",
       "      <td>False</td>\n",
       "      <td>False</td>\n",
       "      <td>False</td>\n",
       "    </tr>\n",
       "    <tr>\n",
       "      <th>2024-06-28 00:00:00+00:00</th>\n",
       "      <td>False</td>\n",
       "      <td>False</td>\n",
       "      <td>False</td>\n",
       "      <td>False</td>\n",
       "      <td>False</td>\n",
       "      <td>False</td>\n",
       "    </tr>\n",
       "    <tr>\n",
       "      <th>2024-06-29 00:00:00+00:00</th>\n",
       "      <td>False</td>\n",
       "      <td>False</td>\n",
       "      <td>False</td>\n",
       "      <td>False</td>\n",
       "      <td>False</td>\n",
       "      <td>False</td>\n",
       "    </tr>\n",
       "    <tr>\n",
       "      <th>2024-06-30 00:00:00+00:00</th>\n",
       "      <td>False</td>\n",
       "      <td>False</td>\n",
       "      <td>False</td>\n",
       "      <td>False</td>\n",
       "      <td>False</td>\n",
       "      <td>False</td>\n",
       "    </tr>\n",
       "  </tbody>\n",
       "</table>\n",
       "<p>3469 rows × 6 columns</p>\n",
       "</div>"
      ],
      "text/plain": [
       "Ticker                     BRK-A  BTC-USD    GDX    SPY    TLT    XLE\n",
       "Date                                                                 \n",
       "2015-01-01 00:00:00+00:00   True    False   True   True   True   True\n",
       "2015-01-02 00:00:00+00:00  False    False  False  False  False  False\n",
       "2015-01-03 00:00:00+00:00  False    False  False  False  False  False\n",
       "2015-01-04 00:00:00+00:00  False    False  False  False  False  False\n",
       "2015-01-05 00:00:00+00:00  False    False  False  False  False  False\n",
       "...                          ...      ...    ...    ...    ...    ...\n",
       "2024-06-26 00:00:00+00:00  False    False  False  False  False  False\n",
       "2024-06-27 00:00:00+00:00  False    False  False  False  False  False\n",
       "2024-06-28 00:00:00+00:00  False    False  False  False  False  False\n",
       "2024-06-29 00:00:00+00:00  False    False  False  False  False  False\n",
       "2024-06-30 00:00:00+00:00  False    False  False  False  False  False\n",
       "\n",
       "[3469 rows x 6 columns]"
      ]
     },
     "execution_count": 14,
     "metadata": {},
     "output_type": "execute_result"
    }
   ],
   "source": [
    "precos.isna()"
   ]
  },
  {
   "cell_type": "code",
   "execution_count": 15,
   "id": "b22cb6cc",
   "metadata": {},
   "outputs": [
    {
     "data": {
      "text/plain": [
       "Ticker\n",
       "BRK-A      1\n",
       "BTC-USD    0\n",
       "GDX        1\n",
       "SPY        1\n",
       "TLT        1\n",
       "XLE        1\n",
       "dtype: int64"
      ]
     },
     "execution_count": 15,
     "metadata": {},
     "output_type": "execute_result"
    }
   ],
   "source": [
    "precos.isna().sum()"
   ]
  },
  {
   "cell_type": "code",
   "execution_count": 16,
   "id": "2fa56571",
   "metadata": {},
   "outputs": [
    {
     "data": {
      "text/plain": [
       "pandas.core.frame.DataFrame"
      ]
     },
     "execution_count": 16,
     "metadata": {},
     "output_type": "execute_result"
    }
   ],
   "source": [
    "type(precos)"
   ]
  },
  {
   "cell_type": "code",
   "execution_count": 17,
   "id": "9c968509",
   "metadata": {},
   "outputs": [
    {
     "data": {
      "text/plain": [
       "Ticker\n",
       "BRK-A      float64\n",
       "BTC-USD    float64\n",
       "GDX        float64\n",
       "SPY        float64\n",
       "TLT        float64\n",
       "XLE        float64\n",
       "dtype: object"
      ]
     },
     "execution_count": 17,
     "metadata": {},
     "output_type": "execute_result"
    }
   ],
   "source": [
    "precos.dtypes"
   ]
  },
  {
   "cell_type": "code",
   "execution_count": 18,
   "id": "a9db81f2",
   "metadata": {},
   "outputs": [
    {
     "data": {
      "text/plain": [
       "DatetimeIndex(['2015-01-01 00:00:00+00:00', '2015-01-02 00:00:00+00:00',\n",
       "               '2015-01-03 00:00:00+00:00', '2015-01-04 00:00:00+00:00',\n",
       "               '2015-01-05 00:00:00+00:00', '2015-01-06 00:00:00+00:00',\n",
       "               '2015-01-07 00:00:00+00:00', '2015-01-08 00:00:00+00:00',\n",
       "               '2015-01-09 00:00:00+00:00', '2015-01-10 00:00:00+00:00',\n",
       "               ...\n",
       "               '2024-06-21 00:00:00+00:00', '2024-06-22 00:00:00+00:00',\n",
       "               '2024-06-23 00:00:00+00:00', '2024-06-24 00:00:00+00:00',\n",
       "               '2024-06-25 00:00:00+00:00', '2024-06-26 00:00:00+00:00',\n",
       "               '2024-06-27 00:00:00+00:00', '2024-06-28 00:00:00+00:00',\n",
       "               '2024-06-29 00:00:00+00:00', '2024-06-30 00:00:00+00:00'],\n",
       "              dtype='datetime64[ns, UTC]', name='Date', length=3469, freq='D')"
      ]
     },
     "execution_count": 18,
     "metadata": {},
     "output_type": "execute_result"
    }
   ],
   "source": [
    "# Ja está em index para configurar a serie temporal!\n",
    "precos.index"
   ]
  },
  {
   "cell_type": "markdown",
   "id": "29d907ac",
   "metadata": {},
   "source": [
    "### <font color = darkgreen> Calculando o Retorno Médio Histórico </font>\n",
    "\n",
    "A função mean_historical_return() abaixo é da biblioteca PyPortfolioOpt e calcula o retorno médio histórico de cada ativo no DataFrame de preços de entrada.\n",
    "\n",
    "O resultado dessa função, mu, é uma série Pandas onde o índice é o nome do ativo (neste caso, o símbolo da ação) e o valor é o retorno médio histórico anualizado para esse ativo.\n",
    "\n",
    "A função mean_historical_return() calcula os retornos médios usando a **fórmula de retorno geométrico,** que é mais adequada para séries temporais financeiras do que a média aritmética, pois leva em consideração o efeito do reinvestimento de lucros.\n",
    "\n",
    "O DataFrame de preços de entrada, **precos** neste caso, deve ser um DataFrame onde cada coluna é uma série de preços de um ativo e cada linha corresponde a uma data ou período de tempo.\n",
    "\n",
    "Este valor calculado de mu é frequentemente usado como uma estimativa dos retornos futuros esperados ao otimizar um portfólio. No entanto, é importante lembrar que os retornos médios históricos não garantem retornos futuros."
   ]
  },
  {
   "cell_type": "code",
   "execution_count": 19,
   "id": "5575641b",
   "metadata": {},
   "outputs": [],
   "source": [
    "# Calcula o retorno médio histórico\n",
    "mu = expected_returns.mean_historical_return(precos)"
   ]
  },
  {
   "cell_type": "code",
   "execution_count": 20,
   "id": "99614fe1",
   "metadata": {},
   "outputs": [
    {
     "data": {
      "text/plain": [
       "Ticker\n",
       "BRK-A      0.075960\n",
       "BTC-USD    0.469321\n",
       "GDX        0.049938\n",
       "SPY        0.086549\n",
       "TLT       -0.007184\n",
       "XLE        0.038735\n",
       "dtype: float64"
      ]
     },
     "execution_count": 20,
     "metadata": {},
     "output_type": "execute_result"
    }
   ],
   "source": [
    "mu"
   ]
  },
  {
   "cell_type": "markdown",
   "id": "0e91943e",
   "metadata": {},
   "source": [
    "### <font color = darkgreen> Calculando a Matriz de Covariância Amostral dos Retornos dos Ativos</font>\n",
    "\n",
    "A função sample_cov() abaixo é da biblioteca PyPortfolioOpt e calcula a matriz de covariância amostral dos retornos dos ativos no DataFrame de preços de entrada.\n",
    "\n",
    "A matriz de covariância é uma medida que indica o grau em que dois ativos se movem em conjunto. Um valor de covariância positivo indica que os ativos tendem a se mover na mesma direção, enquanto um valor de covariância negativo indica que os ativos tendem a se mover em direções opostas.\n",
    "\n",
    "No contexto da otimização de portfólio, a matriz de covariância é usada para modelar o risco do portfólio. Em particular, a variação (ou volatilidade) do portfólio é uma função da matriz de covariância dos retornos dos ativos no portfólio.\n",
    "\n",
    "A função sample_cov() calcula a matriz de covariância amostral, que é uma **estimativa não tendenciosa da matriz de covariância** populacional. Esta é a matriz de covariância que seria obtida se tivéssemos acesso a todos os possíveis retornos dos ativos, em vez de apenas uma amostra de retornos."
   ]
  },
  {
   "cell_type": "code",
   "execution_count": 21,
   "id": "8f9f7405",
   "metadata": {},
   "outputs": [],
   "source": [
    "# Calcula a matriz de covariância amostral dos retornos dos ativos\n",
    "S = risk_models.sample_cov(precos)"
   ]
  },
  {
   "cell_type": "code",
   "execution_count": 22,
   "id": "204d222f",
   "metadata": {},
   "outputs": [
    {
     "data": {
      "text/html": [
       "<div>\n",
       "<style scoped>\n",
       "    .dataframe tbody tr th:only-of-type {\n",
       "        vertical-align: middle;\n",
       "    }\n",
       "\n",
       "    .dataframe tbody tr th {\n",
       "        vertical-align: top;\n",
       "    }\n",
       "\n",
       "    .dataframe thead th {\n",
       "        text-align: right;\n",
       "    }\n",
       "</style>\n",
       "<table border=\"1\" class=\"dataframe\">\n",
       "  <thead>\n",
       "    <tr style=\"text-align: right;\">\n",
       "      <th>Ticker</th>\n",
       "      <th>BRK-A</th>\n",
       "      <th>BTC-USD</th>\n",
       "      <th>GDX</th>\n",
       "      <th>SPY</th>\n",
       "      <th>TLT</th>\n",
       "      <th>XLE</th>\n",
       "    </tr>\n",
       "    <tr>\n",
       "      <th>Ticker</th>\n",
       "      <th></th>\n",
       "      <th></th>\n",
       "      <th></th>\n",
       "      <th></th>\n",
       "      <th></th>\n",
       "      <th></th>\n",
       "    </tr>\n",
       "  </thead>\n",
       "  <tbody>\n",
       "    <tr>\n",
       "      <th>BRK-A</th>\n",
       "      <td>0.024528</td>\n",
       "      <td>0.011120</td>\n",
       "      <td>0.005010</td>\n",
       "      <td>0.017806</td>\n",
       "      <td>-0.004849</td>\n",
       "      <td>0.023921</td>\n",
       "    </tr>\n",
       "    <tr>\n",
       "      <th>BTC-USD</th>\n",
       "      <td>0.011120</td>\n",
       "      <td>0.339261</td>\n",
       "      <td>0.023486</td>\n",
       "      <td>0.016882</td>\n",
       "      <td>0.000125</td>\n",
       "      <td>0.016883</td>\n",
       "    </tr>\n",
       "    <tr>\n",
       "      <th>GDX</th>\n",
       "      <td>0.005010</td>\n",
       "      <td>0.023486</td>\n",
       "      <td>0.101949</td>\n",
       "      <td>0.008110</td>\n",
       "      <td>0.009605</td>\n",
       "      <td>0.016390</td>\n",
       "    </tr>\n",
       "    <tr>\n",
       "      <th>SPY</th>\n",
       "      <td>0.017806</td>\n",
       "      <td>0.016882</td>\n",
       "      <td>0.008110</td>\n",
       "      <td>0.021796</td>\n",
       "      <td>-0.004063</td>\n",
       "      <td>0.023455</td>\n",
       "    </tr>\n",
       "    <tr>\n",
       "      <th>TLT</th>\n",
       "      <td>-0.004849</td>\n",
       "      <td>0.000125</td>\n",
       "      <td>0.009605</td>\n",
       "      <td>-0.004063</td>\n",
       "      <td>0.016265</td>\n",
       "      <td>-0.008405</td>\n",
       "    </tr>\n",
       "    <tr>\n",
       "      <th>XLE</th>\n",
       "      <td>0.023921</td>\n",
       "      <td>0.016883</td>\n",
       "      <td>0.016390</td>\n",
       "      <td>0.023455</td>\n",
       "      <td>-0.008405</td>\n",
       "      <td>0.063092</td>\n",
       "    </tr>\n",
       "  </tbody>\n",
       "</table>\n",
       "</div>"
      ],
      "text/plain": [
       "Ticker      BRK-A   BTC-USD       GDX       SPY       TLT       XLE\n",
       "Ticker                                                             \n",
       "BRK-A    0.024528  0.011120  0.005010  0.017806 -0.004849  0.023921\n",
       "BTC-USD  0.011120  0.339261  0.023486  0.016882  0.000125  0.016883\n",
       "GDX      0.005010  0.023486  0.101949  0.008110  0.009605  0.016390\n",
       "SPY      0.017806  0.016882  0.008110  0.021796 -0.004063  0.023455\n",
       "TLT     -0.004849  0.000125  0.009605 -0.004063  0.016265 -0.008405\n",
       "XLE      0.023921  0.016883  0.016390  0.023455 -0.008405  0.063092"
      ]
     },
     "execution_count": 22,
     "metadata": {},
     "output_type": "execute_result"
    }
   ],
   "source": [
    "S"
   ]
  },
  {
   "cell_type": "markdown",
   "id": "736797cc",
   "metadata": {},
   "source": [
    "### Explicação Detalhada da Matriz de Covariância\n",
    "\n",
    "A matriz de covariância mostra como os retornos dos ativos variam juntos, sendo essencial para otimizar portfólios:\n",
    "\n",
    "1. **Diagonal Principal**:\n",
    "   - Valores como `0.339261` para `BTC-USD` são as **variâncias** dos ativos, indicando sua volatilidade. \n",
    "    - Variância: Mede a volatilidade (ou risco) de um ativo. Quanto maior, mais o retorno do ativo tende a variar em relação à sua média.\n",
    "\n",
    "2. **Covariâncias (Fora da Diagonal)**:\n",
    "   - Medem como os retornos de dois ativos se movem juntos. Exemplo: A covariância entre `BRK-A` e `BTC-USD` é `0.011120`.\n",
    "   - **Positivo**: Ativos tendem a se mover na mesma direção.\n",
    "   - **Negativo**: Movem-se em direções opostas.\n",
    "\n",
    "3. **Diversificação**:\n",
    "   - Ativos com covariâncias baixas ou negativas ajudam a reduzir o risco do portfólio, balanceando perdas e ganhos.\n",
    "\n",
    "\n",
    "Uma variância mais alta indica que os retornos do ativo são mais voláteis, ou seja, os preços flutuam mais ao longo do tempo. Uma variância mais baixa indicaria retornos mais estáveis e, portanto, um ativo menos volátil.\n",
    "\n",
    "Se o valor for positivo, como é o caso aqui, significa que, em geral, quando os retornos da Apple aumentam, os retornos da Amazon também tendem a aumentar, e vice-versa. Quanto maior o valor positivo, maior a correlação positiva entre os dois ativos. Esse valor é usado para entender como esses ativos se movem em relação um ao outro e ajuda na diversificação de portfólios."
   ]
  },
  {
   "attachments": {
    "image.png": {
     "image/png": "[encoded data removed]"
    }
   },
   "cell_type": "markdown",
   "id": "8ad4c2b7",
   "metadata": {},
   "source": [
    "### <font color = darkgreen> A Fronteira Eficiente </font>\n",
    "\n",
    "É um conceito-chave na Teoria Moderna do Portfólio de Markowitz. Representa o conjunto de portfólios que, para um determinado nível de risco, oferece o maior retorno esperado, ou para um determinado retorno, apresenta o menor risco possível.\n",
    "\n",
    "Em outras palavras, os portfólios que residem na fronteira eficiente são aqueles que têm a melhor relação possível de risco-retorno, de acordo com a medida de risco (geralmente o desvio padrão dos retornos) e o retorno esperado.\n",
    "\n",
    "A fronteira eficiente é representada graficamente com o risco no eixo x e o retorno no eixo y. Cada ponto na linha representa um portfólio potencial de ativos. Portfólios abaixo da linha da fronteira eficiente são considerados ineficientes, pois para o mesmo nível derisco, há uma opção na fronteira que proporciona maior retorno. Da mesma forma, portfólios acima da linha também são ineficientes, pois para o mesmo nível de retorno, há uma opção na fronteira que apresenta menor risco.\n",
    "\n",
    "![image.png](attachment:image.png)\n",
    "\n",
    "\n",
    "O objetivo da otimização do portfólio é encontrar o ponto na fronteira eficiente que corresponda ao nível de risco que o investidor está disposto a assumir. Isso varia de acordo com a aversão ao risco do investidor."
   ]
  },
  {
   "cell_type": "markdown",
   "id": "4f722a88",
   "metadata": {},
   "source": [
    "### <font color = darkgreen> Otimização de Portfólio Usando a Fronteira Eficiente de Markowitz</font>\n",
    "\n",
    "\n",
    "A linha ef = EfficientFrontier(mu, S) abaixo está criando um objeto de otimização de portfólio usando a fronteira eficiente de Markowitz, que é um conceito fundamental na teoria moderna de portfólio.\n",
    "\n",
    "Aqui está o que cada parte dessa linha faz:\n",
    "\n",
    "EfficientFrontier: Este é um construtor de classe da biblioteca PyPortfolioOpt que cria um objeto que representa a fronteira eficiente de um portfólio. A fronteira eficiente é o conjunto de portfólios que tem o maior retorno esperado para um dado nível de risco, ou o menor risco para um dado nível de retorno esperado. Fazem simulação de cenarios buscando a Fronteira Eficiente.\n",
    "\n",
    "mu: Esta é a série de retornos esperados para cada ativo, calculada pela função expected_returns.mean_historical_return(). Em outras palavras, mu representa o retorno esperado de cada ativo no portfólio.\n",
    "\n",
    "S: Esta é a matriz de covariância dos ativos, calculada pela função risk_models.sample_cov(). Em outras palavras, S representa o risco (ou volatilidade) e a correlação de cada ativo no portfólio.\n",
    "\n",
    "Ao criar um objeto EfficientFrontier com mu e S como argumentos, você está preparando os dados necessários para realizar a otimização de portfólio na fronteira eficiente. Uma vez que o objeto ef foi criado, você pode usar os vários métodos disponíveis para esse objeto para otimizar o portfólio, como max_sharpe(), min_volatility(), entre outros."
   ]
  },
  {
   "cell_type": "code",
   "execution_count": 23,
   "id": "315412f0",
   "metadata": {},
   "outputs": [],
   "source": [
    "# Otimização de portfólio usando a fronteira eficiente de Markowitz\n",
    "# ef é a instância da classe EfficientFrontier da biblioteca PyPortfolioOpt. Ao criar essa instância, você está inicializando \n",
    "# um objeto que contém todas as informações necessárias (retornos esperados e matriz de covariância) para otimizar um portfólio\n",
    "# de acordo com a teoria da fronteira eficiente de Markowitz. Com essa instância, você pode aplicar métodos para \n",
    "# encontrar a melhor alocação de ativos, como maximizar o índice de Sharpe ou minimizar a volatilidade, entre outros.\n",
    "\n",
    "# Passa como argumento a mtz de covariancia amostral dos retornos e o retorno historico medio.\n",
    "ef = EfficientFrontier(mu, S) #instância da classe"
   ]
  },
  {
   "cell_type": "code",
   "execution_count": 24,
   "id": "ffc538af",
   "metadata": {},
   "outputs": [
    {
     "data": {
      "text/plain": [
       "pypfopt.efficient_frontier.efficient_frontier.EfficientFrontier"
      ]
     },
     "execution_count": 24,
     "metadata": {},
     "output_type": "execute_result"
    }
   ],
   "source": [
    "#  o objeto (variável python) \"ef\" uma instância de uma classe que contém métodos e atributos específicos para otimização de portfólios. \n",
    "# Ele armazena dados internamente (como os retornos esperados e a matriz de covariância) e fornece métodos para manipular \n",
    "# esses dados e calcular resultados, como max_sharpe(), min_volatility(), entre outros.\n",
    "type (ef)"
   ]
  },
  {
   "cell_type": "markdown",
   "id": "60fcf34e",
   "metadata": {},
   "source": [
    "### <font color = darkgreen> Calculando os Pesos do Portfólio Que Maximizam o Índice de Sharpe</font>\n",
    "\n",
    "\n",
    "\n",
    "O método max_sharpe() abaixo é do objeto EfficientFrontier e é usado para calcular os pesos do portfólio que maximizam o índice de Sharpe.\n",
    "\n",
    "O Índice de Sharpe é uma métrica usada para entender o retorno ajustado ao risco de um investimento ou de um portfólio. Ele é calculado como a diferença entre o retorno do investimento e o retorno de um ativo livre de risco (como um Tesouro do governo), dividido pelo desvio padrão dos retornos do investimento. **Um índice de Sharpe maior indica que o retorno do investimento é mais alto em relação ao risco assumido**.\n",
    "\n",
    "No contexto da otimização de portfólio, maximizar o índice de Sharpe é uma estratégia comum, pois tenta maximizar o retorno do portfólio para um determinado nível de risco.\n",
    "\n",
    "A função ef.max_sharpe() faz isso resolvendo um problema de otimização onde o objetivo é encontrar os pesos que maximizam o índice de Sharpe. Esta função retorna os pesos brutos, que podem somar mais ou menos de 1 devido à precisão numérica."
   ]
  },
  {
   "cell_type": "markdown",
   "id": "459223a6",
   "metadata": {},
   "source": [
    "No caso específico do método max_sharpe(), estamos maximizando o retorno ajustado ao risco, utilizando o índice de Sharpe como métrica. O índice de Sharpe é uma forma de avaliar o desempenho de um portfólio em relação ao risco assumido, e é calculado como o retorno esperado menos a taxa livre de risco dividido pelo desvio-padrão (ou volatilidade) dos retornos.\n",
    "\n",
    "Portanto, ao usar max_sharpe(), o algoritmo tenta encontrar a alocação de ativos que maximize esse retorno ajustado ao risco. Isso se alinha mais com a ideia de maximizar o retorno dado um nível específico de risco.\n",
    "\n",
    "A função usa como Default TLR 0,02, no Brasil devemos mudar pra SELIC"
   ]
  },
  {
   "cell_type": "code",
   "execution_count": 25,
   "id": "24c91ddc",
   "metadata": {},
   "outputs": [],
   "source": [
    "# Calcula os pesos do portfólio que maximizam o índice de Sharpe\n",
    "# Usando o objeto ef, criado acima, chamamos o metodo max_sharp! Sensacional prog orientada a objetos! \n",
    "pesos_brutos = ef.max_sharpe()"
   ]
  },
  {
   "cell_type": "code",
   "execution_count": 26,
   "id": "5cf66f7a",
   "metadata": {},
   "outputs": [
    {
     "data": {
      "text/plain": [
       "OrderedDict([('BRK-A', 0.1424952200575492),\n",
       "             ('BTC-USD', 0.3579227023914988),\n",
       "             ('GDX', 0.0),\n",
       "             ('SPY', 0.4995820775509521),\n",
       "             ('TLT', 0.0),\n",
       "             ('XLE', 0.0)])"
      ]
     },
     "execution_count": 26,
     "metadata": {},
     "output_type": "execute_result"
    }
   ],
   "source": [
    "pesos_brutos"
   ]
  },
  {
   "cell_type": "markdown",
   "id": "f433a068",
   "metadata": {},
   "source": [
    "Obs: O objeto retornado pelo método max_sharpe() é do tipo OrderedDict, conforme mostrado no seu código. Esse tipo de objeto é uma coleção ordenada de pares chave-valor, onde as chaves são os tickers dos ativos e os valores são os pesos atribuídos a cada ativo para maximizar o índice de Sharpe do portfólio.\n",
    "\n",
    "Ele mantém a ordem de inserção e é similar a um dicionário Python, mas garante que a sequência dos elementos será mantida. Assim, você pode acessá-lo como um dicionário, iterar sobre ele ou convertê-lo para outros tipos, como DataFrame, se necessário."
   ]
  },
  {
   "cell_type": "markdown",
   "id": "a6d532b6",
   "metadata": {},
   "source": [
    "### <font color = darkgreen> Normalizando os Pesos do Portfólio</font>\n",
    "\n",
    "A função clean_weights() abaixo é da biblioteca PyPortfolioOpt e é usada para normalizar os pesos do portfólio para garantir que eles somem exatamente 1.\n",
    "\n",
    "Na otimização de portfólio, os pesos representam a proporção do capital total investido em cada ativo. Por isso, a soma dos pesos deve ser igual a 1 (ou 100% se você preferir pensar em termos de porcentagens).\n",
    "\n",
    "No entanto, devido à precisão numérica e a erros de arredondamento que podem ocorrer durante a otimização, a soma dos pesos brutos calculados pode ser ligeiramente diferente de 1. A função clean_weights() corrige isso ao normalizar os pesos de forma que a soma seja exatamente 1.\n",
    "\n",
    "Além disso, clean_weights() também arredonda os pesos para uma precisão especificada (por padrão, 5 casas decimais) para facilitar a interpretação e a aplicação dos pesos."
   ]
  },
  {
   "cell_type": "code",
   "execution_count": 27,
   "id": "e9461492",
   "metadata": {},
   "outputs": [],
   "source": [
    "# Normalizar os pesos do portfólio para garantir que eles somem exatamente 1\n",
    "pesos_limpos = ef.clean_weights()"
   ]
  },
  {
   "cell_type": "code",
   "execution_count": 28,
   "id": "0646428e",
   "metadata": {},
   "outputs": [
    {
     "data": {
      "text/plain": [
       "OrderedDict([('BRK-A', 0.1425),\n",
       "             ('BTC-USD', 0.35792),\n",
       "             ('GDX', 0.0),\n",
       "             ('SPY', 0.49958),\n",
       "             ('TLT', 0.0),\n",
       "             ('XLE', 0.0)])"
      ]
     },
     "execution_count": 28,
     "metadata": {},
     "output_type": "execute_result"
    }
   ],
   "source": [
    "pesos_limpos"
   ]
  },
  {
   "cell_type": "markdown",
   "id": "96c58dd3",
   "metadata": {},
   "source": [
    "### <font color = darkgreen> Analisando a Performance Esperada Para o Portfólio</font>\n",
    "\n",
    "\n",
    "A função portfolio_performance() abaixo é um método da classe EfficientFrontier da biblioteca PyPortfolioOpt que calcula várias métricas de desempenho para o portfólio otimizado.\n",
    "\n",
    "Em particular, essa função calcula:\n",
    "\n",
    "**Retorno esperado anual:** o retorno que se espera que o portfólio produza ao longo de um ano, com base nos pesos otimizados e nos retornos esperados dos ativos.\n",
    "\n",
    "**Volatilidade anual:** a volatilidade (ou risco) do portfólio ao longo de um ano, com base nos pesos otimizados e na matriz de covariância dos retornos dos ativos.\n",
    "\n",
    "**Índice de Sharpe:** uma medida de desempenho ajustada ao risco que é calculada como o retorno esperado em excesso (acima do retorno de um ativo livre de risco) dividido pela volatilidade. Um índice de Sharpe mais alto indica um desempenho melhor em termos de compensação risco-retorno.\n",
    "\n",
    "O argumento verbose=True indica que a função deve imprimir os resultados. Se verbose=False, a função retornaria os resultados como uma tupla sem imprimi-los."
   ]
  },
  {
   "cell_type": "code",
   "execution_count": 29,
   "id": "b434ace2",
   "metadata": {},
   "outputs": [
    {
     "name": "stdout",
     "output_type": "stream",
     "text": [
      "Expected annual return: 22.2%\n",
      "Annual volatility: 24.3%\n",
      "Sharpe Ratio: 0.83\n"
     ]
    },
    {
     "data": {
      "text/plain": [
       "(0.22204271522556254, 0.2431194483085922, 0.8310429981278551)"
      ]
     },
     "execution_count": 29,
     "metadata": {},
     "output_type": "execute_result"
    }
   ],
   "source": [
    "# Performance esperada para o portfólio\n",
    "ef.portfolio_performance(verbose = True)"
   ]
  },
  {
   "cell_type": "markdown",
   "id": "b38ca89b",
   "metadata": {},
   "source": [
    "### Análise:\n",
    "\n",
    "\n",
    "Performance Esperada do Portfólio:\n",
    "\n",
    "Retorno Anual Esperado: 22.2%. Este é um retorno relativamente alto e indica que, com base na composição atual dos ativos, espera-se um retorno significativo ao longo de um ano.\n",
    "\n",
    "Volatilidade Anual (Risco): 24.3%. A volatilidade também é alta, o que sugere que o portfólio possui um risco elevado, compatível com a expectativa de altos retornos.\n",
    "\n",
    "\n",
    "Índice de Sharpe: 0.83. Este valor indica que, para cada unidade de risco assumido, o portfólio gera um retorno adicional. Embora positivo, é um valor que sugere um equilíbrio entre risco e retorno, mas não necessariamente o ideal para um perfil conservador.\n",
    "\n",
    "\n",
    "Composição dos Pesos do Portfólio:\n",
    "\n",
    "\n",
    "BRK-A: 14.25% do portfólio. Representa uma porção significativa, sugerindo confiança em ativos mais tradicionais.\n",
    "BTC-USD: 35.79%. A exposição ao Bitcoin é alta, indicando uma escolha mais agressiva, aumentando potencialmente os retornos e a volatilidade.\n",
    "SPY: 49.96%. Este ativo compõe quase metade do portfólio, o que reflete uma abordagem mais balanceada, já que o SPY representa o mercado americano como um todo.\n",
    "\n",
    "Outros ativos, como GDX, TLT e XLE, não possuem peso, o que mostra que o modelo priorizou alocações mais concentradas em ativos específicos.\n",
    "\n",
    "Análise Geral:\n",
    "O portfólio demonstra um balanço entre ativos tradicionais e agressivos, refletindo um perfil de risco mais moderado a agressivo, focando em maximizar retornos mesmo assumindo volatilidade significativa. \n",
    "\n",
    "Para um perfil mais conservador, ajustes no modelo seriam necessários, especialmente para reduzir a exposição ao Bitcoin e equilibrar melhor os ativos menos voláteis."
   ]
  },
  {
   "cell_type": "markdown",
   "id": "68bb52fb",
   "metadata": {},
   "source": [
    "### <font color = darkred> Estratégia 2 - Otimizando o Portfólio Com Base nos Valores Futuros Previstos Por IA </font>\n",
    "\n",
    "No modelo passado usamos a média histórica dos retornos, agora vamos prever, através de IA os valores de Retorno, usando a relação matemática entre as variaveis, que serão aprendidas pelo modelo, nesse caso, usaremos Algoritmos Random Forrest."
   ]
  },
  {
   "cell_type": "markdown",
   "id": "51f12cd9",
   "metadata": {},
   "source": [
    "## Random Forest\n",
    "\n",
    "Random Forest é um algoritmo de aprendizado supervisionado usado para **classificação** e **regressão**, baseado em *ensemble learning*, que combina múltiplas árvores de decisão para melhorar a precisão.\n",
    "\n",
    "### Como Funciona\n",
    "1. **Criação de Árvores**: Gera múltiplas árvores usando subconjuntos aleatórios dos dados (*bootstrap*).\n",
    "2. **Votação ou Média**:\n",
    "   - Classificação: Cada árvore vota para determinar a classe final.\n",
    "   - Regressão: A média das previsões das árvores é usada.\n",
    "3. **Redução de Overfitting**: Trabalha com subconjuntos de dados/variáveis, evitando o overfitting comum em árvores individuais.\n",
    "\n",
    "### Vantagens\n",
    "- **Robustez**: Funciona bem com dados complexos e variáveis menos importantes.\n",
    "- **Estabilidade**: Menos impacto de outliers e variações nos dados.\n",
    "- **Facilidade de uso**: Parâmetros intuitivos, como o número de árvores (*n_estimators*).\n",
    "\n",
    "### Desvantagens\n",
    "- **Complexidade**: Treinamento demorado e modelo final difícil de interpretar.\n",
    "- **Consome mais memória**: Armazena múltiplas árvores.\n",
    "\n",
    "### Parâmetros Principais\n",
    "- **n_estimators**: Quantidade de árvores.\n",
    "- **max_features**: Número de características para dividir em cada nó.\n",
    "- **max_depth**: Profundidade máxima da árvore.\n",
    "- **min_samples_split**: Mínimo de amostras para dividir um nó.\n",
    "- **min_samples_leaf**: Mínimo de amostras para ser uma folha.\n",
    "\n",
    "### Exemplo de Uso com Scikit-Learn\n",
    "```python\n",
    "from sklearn.ensemble import RandomForestClassifier\n",
    "# Criação do modelo\n",
    "rf = RandomForestClassifier(n_estimators=100, max_depth=5, random_state=42)\n",
    "\n",
    "# Treinamento\n",
    "rf.fit(X_train, y_train)\n",
    "\n",
    "# Previsões\n",
    "y_pred = rf.predict(X_test)\n"
   ]
  },
  {
   "cell_type": "code",
   "execution_count": 30,
   "id": "5cc8482a",
   "metadata": {},
   "outputs": [],
   "source": [
    "# Imports\n",
    "import yfinance as yf\n",
    "import numpy as np\n",
    "import pandas as pd\n",
    "from pypfopt.efficient_frontier import EfficientFrontier\n",
    "from pypfopt import risk_models\n",
    "from sklearn.ensemble import RandomForestRegressor\n",
    "from sklearn.model_selection import train_test_split"
   ]
  },
  {
   "cell_type": "code",
   "execution_count": 31,
   "id": "f2fe5ddd",
   "metadata": {},
   "outputs": [
    {
     "name": "stdout",
     "output_type": "stream",
     "text": [
      "Author: Michelle Bouhid\n",
      "\n",
      "pandas  : 1.5.3\n",
      "platform: 1.0.8\n",
      "yfinance: 0.2.44\n",
      "pypfopt : 1.5.5\n",
      "numpy   : 1.23.5\n",
      "sklearn : 1.3.0\n",
      "\n"
     ]
    }
   ],
   "source": [
    "# Versões dos pacotes usados neste jupyter notebook\n",
    "%reload_ext watermark\n",
    "%watermark -a \"Michelle Bouhid\" --iversions"
   ]
  },
  {
   "cell_type": "code",
   "execution_count": 32,
   "id": "79a5de51",
   "metadata": {},
   "outputs": [],
   "source": [
    "# Dados históricos das ações\n",
    "tickers = [\"BTC-USD\", \"SPY\", \"GDX\", \"TLT\", \"BRK-A\", \"XLE\"]\n",
    "start_date = '2015-01-01'\n",
    "end_date = '2024-07-01'"
   ]
  },
  {
   "cell_type": "code",
   "execution_count": 33,
   "id": "2b4c1de0",
   "metadata": {},
   "outputs": [
    {
     "name": "stderr",
     "output_type": "stream",
     "text": [
      "[*********************100%***********************]  6 of 6 completed\n"
     ]
    }
   ],
   "source": [
    "# Download e definição da coluna usada\n",
    "dados = yf.download(tickers, start = start_date, end = end_date)['Adj Close']"
   ]
  },
  {
   "cell_type": "markdown",
   "id": "6f3aec4a",
   "metadata": {},
   "source": [
    "**Calculando os Retornos Logarítmicos**\n",
    "\n",
    "Os retornos logarítmicos (ou log retornos) são usados em finanças por várias razões. Aqui estão algumas:\n",
    "\n",
    "Simplicidade na agregação de períodos de tempo: Com retornos logarítmicos, você pode simplesmente somar os retornos de períodos individuais para obter o retorno total de um período mais longo. Isso não é possível com retornos simples.\n",
    "\n",
    "Aproximação contínua: Retornos logarítmicos são uma boa aproximação para retornos contínuos, que são frequentemente usados em matemática financeira e modelos de precificação de opções.\n",
    "\n",
    "Normalidade dos retornos: Retornos logarítmicos têm propriedades estatísticas mais gerenciáveis, sendo geralmente mais próximos de uma distribuição normal do que retornos simples. Isso facilita a modelagem e a análise estatística.\n",
    "\n",
    "Na linhha abaixo, estamos usando dados.pct_change() que está calculando os retornos simples, que são os retornos percentuais de um período para o outro. Em seguida, np.log(1 + dados.pct_change()) está convertendo esses retornos simples em retornos logarítmicos, adicionando 1 aos retornos simples antes de tomar o logaritmo, para garantir que os valores dentro do logaritmo sejam sempre positivos (uma vez que o logaritmo de zero ou qualquer número negativo é indefinido).\n",
    "\n",
    "Os retornos logarítmicos calculados são usados em várias etapas subsequentes do script, como no cálculo da matriz de covariância dos retornos, que é usada na otimização do portfólio.\n",
    "\n",
    "Trsnformando o dados sem perder a informação, deixando todos na mesma escala para netregar ao modelo de IA."
   ]
  },
  {
   "cell_type": "code",
   "execution_count": 34,
   "id": "c1c67cf8",
   "metadata": {},
   "outputs": [],
   "source": [
    "# Calculamos os retornos logarítmicos\n",
    "log_returns = np.log(1 + dados.pct_change())"
   ]
  },
  {
   "cell_type": "code",
   "execution_count": 35,
   "id": "6c4d5717",
   "metadata": {},
   "outputs": [],
   "source": [
    "# Remover os valores NaN\n",
    "log_returns = log_returns.dropna()"
   ]
  },
  {
   "cell_type": "markdown",
   "id": "12288334",
   "metadata": {},
   "source": [
    "https://scikit-learn.org/stable/modules/generated/sklearn.ensemble.RandomForestRegressor.html"
   ]
  },
  {
   "cell_type": "code",
   "execution_count": 36,
   "id": "12609cff",
   "metadata": {},
   "outputs": [
    {
     "name": "stdout",
     "output_type": "stream",
     "text": [
      "\n",
      "Previsões do Modelo de IA Para o Retorno das Ações de Cada Empresa:\n",
      "\n",
      "{'BTC-USD': -0.0018493489071365636, 'SPY': 0.0016336184457448012, 'GDX': 0.0001874382879025696, 'TLT': 0.0005754934784942657, 'BRK-A': 0.006236404948893194, 'XLE': 0.0026780565422874296}\n"
     ]
    }
   ],
   "source": [
    "# Treinamos um modelo de regressão para cada ação no portfólio\n",
    "\n",
    "# Dicionário vazio para os retornos futuros\n",
    "retornos_futuros = {}\n",
    "\n",
    "# Loop pelos dados das ações de cada empresa, pela lista de tickers\n",
    "# previsão de retorno futuro para cada ticker\n",
    "for ticker in tickers:\n",
    "    \n",
    "    # Listas auxiliares\n",
    "    # x e y porque o Ramdon forrest é aprendizado supervisionado, entrada x e saida y\n",
    "    X = []\n",
    "    y = []\n",
    "    \n",
    "    # Loop pelos retornos com transformação logarítmica a partir dos dados históricos\n",
    "    # Cria X e Y, sendo Y o valor atual e X os 5 valores anteriores\n",
    "    # Algoritmo pega 5 valores anteriores e prevê o seguinte\n",
    "    for i in range(5, len(log_returns)):\n",
    "        X.append(log_returns[ticker].iloc[i-5:i].values)\n",
    "        y.append(log_returns[ticker].iloc[i])\n",
    "    \n",
    "    # Divide os dados em treino e teste (20% teste e 80% treino)\n",
    "    X_treino, X_teste, y_treino, y_teste = train_test_split(X, y, test_size = 0.2, random_state = 42)\n",
    "\n",
    "    # Cria o modelo\n",
    "    modelo = RandomForestRegressor(random_state = 42) #pra produzir os mesmos dados q o prof\n",
    "    \n",
    "    # Treina o modelo\n",
    "    modelo.fit(X_treino, y_treino)\n",
    "\n",
    "    # Prevendo o próximo retorno\n",
    "    # pega o dicionario retornos_futuros, criado acima, ticker é a chave e o valor (-1) é a previsão \n",
    "    # -1 é o ultimo registro e prevê o proximo\n",
    "    retornos_futuros[ticker] = modelo.predict([X_teste[-1]])[0]\n",
    "    \n",
    "print(\"\\nPrevisões do Modelo de IA Para o Retorno das Ações de Cada Empresa:\\n\")\n",
    "print(retornos_futuros)"
   ]
  },
  {
   "cell_type": "code",
   "execution_count": 37,
   "id": "ac43efc5",
   "metadata": {},
   "outputs": [],
   "source": [
    "# Convertemos o dicionário de retornos futuros em um pandas Series\n",
    "retornos_futuros = pd.Series(retornos_futuros)"
   ]
  },
  {
   "cell_type": "code",
   "execution_count": 38,
   "id": "ced2b192",
   "metadata": {},
   "outputs": [],
   "source": [
    "# Calculamos a matriz de covariância\n",
    "cov_matrix = risk_models.sample_cov(dados)"
   ]
  },
  {
   "cell_type": "code",
   "execution_count": 39,
   "id": "aa856401",
   "metadata": {},
   "outputs": [],
   "source": [
    "# Otimização do portfólio\n",
    "ef = EfficientFrontier(retornos_futuros, cov_matrix)\n",
    "pesos_brutos = ef.max_sharpe(risk_free_rate = 0.001)  \n",
    "pesos_limpos = ef.clean_weights()"
   ]
  },
  {
   "cell_type": "code",
   "execution_count": 40,
   "id": "c6cba2ee",
   "metadata": {},
   "outputs": [
    {
     "data": {
      "text/plain": [
       "OrderedDict([('BTC-USD', 0.0),\n",
       "             ('SPY', 0.0),\n",
       "             ('GDX', 0.0),\n",
       "             ('TLT', 0.0),\n",
       "             ('BRK-A', 0.82851),\n",
       "             ('XLE', 0.17149)])"
      ]
     },
     "execution_count": 40,
     "metadata": {},
     "output_type": "execute_result"
    }
   ],
   "source": [
    "pesos_limpos"
   ]
  },
  {
   "cell_type": "code",
   "execution_count": 41,
   "id": "9dd764df",
   "metadata": {},
   "outputs": [
    {
     "name": "stdout",
     "output_type": "stream",
     "text": [
      "Expected annual return: 0.6%\n",
      "Annual volatility: 10.3%\n",
      "Sharpe Ratio: 0.04\n"
     ]
    },
    {
     "data": {
      "text/plain": [
       "(0.005626178014767196, 0.10311015489518321, 0.044866366649045815)"
      ]
     },
     "execution_count": 41,
     "metadata": {},
     "output_type": "execute_result"
    }
   ],
   "source": [
    "# Desempenho do portfólio\n",
    "ef.portfolio_performance(verbose = True)"
   ]
  },
  {
   "cell_type": "markdown",
   "id": "a5f824ff",
   "metadata": {},
   "source": [
    "### Análise:\n",
    "\n",
    "Esses valores representam uma previsão do desempenho do portfólio no próximo ano. Aqui está uma interpretação de cada valor:\n",
    "\n",
    "Retorno Anual Esperado: O Retorno Anual Esperado é a média ponderada do retorno esperado de cada ativo no portfólio, levando em conta a proporção (ou peso) de cada ativo no portfólio. Neste caso, espera-se que o retorno seja de 0,6% no próximo ano. Isso é bastante baixo, sugerindo que as expectativas de crescimento dos ativos no portfólio não são muito altas.\n",
    "\n",
    "Volatilidade Anual: A Volatilidade Anual é uma medida do risco do portfólio. Ela é calculada como a raiz quadrada da variância do portfólio. A variância é a média ponderada da variância de cada ativo, levando em consideração os pesos de cada ativo e a correlação entre os ativos. Neste caso, a volatilidade é de 10,3%, o que sugere um nível relativamente alto de risco. Isso pode ser devido a uma grande variação nos retornos dos ativos no portfólio.\n",
    "\n",
    "Índice de Sharpe: O Índice de Sharpe é uma medida do desempenho ajustado ao risco. Ele é calculado como o excesso de retorno (ou seja, retorno acima da taxa livre de risco) dividido pela volatilidade. Um índice de Sharpe mais alto é geralmente melhor, pois indica que você está obtendo mais retorno por unidade de risco. Neste caso, o Índice de Sharpe é de 0,04, o que é muito baixo. Isso sugere que o portfólio não está fornecendo muito retorno para o nível de risco assumido.\n",
    "\n",
    "Em resumo, esses números sugerem um portfólio com expectativas de crescimento baixas, alto risco e baixo retorno ajustado ao risco. No entanto, lembre-se de que essas são apenas previsões e o desempenho real do portfólio pode variar."
   ]
  },
  {
   "attachments": {
    "image.png": {
     "image/png": "[encoded data removed]"
    }
   },
   "cell_type": "markdown",
   "id": "da3d5f9f",
   "metadata": {},
   "source": [
    "### CVaR, ou Conditional Value at Risk (Valor em Risco Condicional), também conhecido como Expected Shortfall (Perda Esperada), \n",
    "\n",
    "É uma medida de risco que considera a severidade das perdas  que  podem  ocorrer  em  situações  de  extremo  risco.  Essencialmente,  o  CVaR é  uma extensão do Value at Risk (VaR), outra medida comumente usada no gerenciamento de risco financeiro.\n",
    "\n",
    "Enquanto o VaR fornece um valor numérico que estima a perda máxima que pode ser sofrida com uma certa probabilidade (nível de confiança) em um determinado período de tempo, o CVaR leva em consideração a distribuição de perdas além do ponto VaR. Ou seja, o CVaR é a média condicional das perdas que excedem o VaR.\n",
    "\n",
    "Por exemplo, se o VaR de um portfólio em um nível de confiança de 95% é de $100, isso significa  que  existe  uma  probabilidade  de  5%  de  o  portfólio  perder  mais  de  $100  em  um determinado  período  de  tempo.  \n",
    "\n",
    "![image.png](attachment:image.png)\n",
    "\n",
    "O  CVaR,  por  outro  lado,  seria  a  média  dessas  perdas  que excedem $100.O CVaR é considerado uma medida de risco mais robusta do que o VaR, porqueleva em consideração as perdas na cauda da distribuição de retornos (os \"eventos de cauda\"), que podem ser  extremamente  grandes. Esses  eventos  de  cauda  são  especialmente  importantes  para considerar em situações de crise financeira, onde grandes perdas podem ocorrer.\n",
    "\n"
   ]
  },
  {
   "cell_type": "markdown",
   "id": "641feb7b",
   "metadata": {},
   "source": [
    "### <font color = darkred> Estratégia 3 - Otimizando o Portfólio Com Base nos Valores Futuros Previstos Por IA e Minimização do CVaR </font>"
   ]
  },
  {
   "cell_type": "code",
   "execution_count": 42,
   "id": "fdc182ff",
   "metadata": {},
   "outputs": [],
   "source": [
    "# Imports\n",
    "import yfinance as yf\n",
    "import numpy as np\n",
    "import pandas as pd\n",
    "from pypfopt.efficient_frontier import EfficientFrontier\n",
    "from pypfopt import risk_models\n",
    "from pypfopt import EfficientCVaR\n",
    "from sklearn.ensemble import RandomForestRegressor\n",
    "from sklearn.model_selection import train_test_split"
   ]
  },
  {
   "cell_type": "code",
   "execution_count": 43,
   "id": "0515a456",
   "metadata": {},
   "outputs": [
    {
     "name": "stdout",
     "output_type": "stream",
     "text": [
      "Author: Michelle Bouhid\n",
      "\n",
      "pandas  : 1.5.3\n",
      "platform: 1.0.8\n",
      "yfinance: 0.2.44\n",
      "pypfopt : 1.5.5\n",
      "numpy   : 1.23.5\n",
      "sklearn : 1.3.0\n",
      "\n"
     ]
    }
   ],
   "source": [
    "# Versões dos pacotes usados neste jupyter notebook\n",
    "%reload_ext watermark\n",
    "%watermark -a \"Michelle Bouhid\" --iversions"
   ]
  },
  {
   "cell_type": "code",
   "execution_count": 44,
   "id": "fa7326e6",
   "metadata": {},
   "outputs": [],
   "source": [
    "# Dados históricos das ações\n",
    "tickers = [\"BTC-USD\", \"SPY\", \"GDX\", \"TLT\", \"BRK-A\", \"XLE\"]\n",
    "start_date = '2015-01-01'\n",
    "end_date = '2024-07-01'"
   ]
  },
  {
   "cell_type": "code",
   "execution_count": 45,
   "id": "c4cc7e78",
   "metadata": {},
   "outputs": [
    {
     "name": "stderr",
     "output_type": "stream",
     "text": [
      "[*********************100%***********************]  6 of 6 completed\n"
     ]
    }
   ],
   "source": [
    "# Download\n",
    "dados = yf.download(tickers, start = start_date, end = end_date)['Adj Close']"
   ]
  },
  {
   "cell_type": "code",
   "execution_count": 46,
   "id": "6c0342e7",
   "metadata": {},
   "outputs": [],
   "source": [
    "# Calcula os retornos logarítmicos\n",
    "log_returns = np.log(1 + dados.pct_change())"
   ]
  },
  {
   "cell_type": "code",
   "execution_count": 47,
   "id": "831fc309",
   "metadata": {},
   "outputs": [],
   "source": [
    "# Remover os valores NaN\n",
    "log_returns = log_returns.dropna()"
   ]
  },
  {
   "cell_type": "code",
   "execution_count": 48,
   "id": "fc692695",
   "metadata": {},
   "outputs": [
    {
     "name": "stdout",
     "output_type": "stream",
     "text": [
      "\n",
      "Previsões do Modelo de IA Para o Retorno das Ações de Cada Empresa:\n",
      "\n",
      "{'BTC-USD': -0.0018493489071365636, 'SPY': 0.0016336184457448012, 'GDX': 0.0001874382879025696, 'TLT': 0.0005754934784942657, 'BRK-A': 0.006236404948893194, 'XLE': 0.0026780565422874296}\n"
     ]
    }
   ],
   "source": [
    "# Treinamos um modelo de regressão para cada ação no portfólio\n",
    "\n",
    "# Dicionário para os retornos futuros\n",
    "retornos_futuros = {}\n",
    "\n",
    "# Loop\n",
    "for ticker in tickers:\n",
    "    \n",
    "    X = []\n",
    "    y = []\n",
    "    \n",
    "    for i in range(5, len(log_returns)):\n",
    "        X.append(log_returns[ticker].iloc[i-5:i].values)\n",
    "        y.append(log_returns[ticker].iloc[i])\n",
    "    \n",
    "    X_treino, X_teste, y_treino, y_teste = train_test_split(X, y, test_size = 0.2, random_state = 42)\n",
    "\n",
    "    modelo = RandomForestRegressor(random_state = 42)\n",
    "    \n",
    "    modelo.fit(X_treino, y_treino)\n",
    "\n",
    "    # Prever o próximo retorno\n",
    "    retornos_futuros[ticker] = modelo.predict([X_teste[-1]])[0]\n",
    "    \n",
    "print(\"\\nPrevisões do Modelo de IA Para o Retorno das Ações de Cada Empresa:\\n\")\n",
    "print(retornos_futuros)"
   ]
  },
  {
   "cell_type": "code",
   "execution_count": 49,
   "id": "780845f3",
   "metadata": {},
   "outputs": [],
   "source": [
    "# Converte o dicionário de retornos futuros em um pandas Series\n",
    "retornos_futuros = pd.Series(retornos_futuros)"
   ]
  },
  {
   "cell_type": "code",
   "execution_count": 50,
   "id": "8e24cea9",
   "metadata": {},
   "outputs": [],
   "source": [
    "# Calcula a matriz de covariância\n",
    "cov_matrix = risk_models.sample_cov(dados)"
   ]
  },
  {
   "cell_type": "code",
   "execution_count": 51,
   "id": "af09a240",
   "metadata": {},
   "outputs": [],
   "source": [
    "# Otimiza o portfólio minimizando o CVaR\n",
    "ef = EfficientCVaR(retornos_futuros, cov_matrix)\n",
    "pesos_brutos = ef.min_cvar()\n",
    "pesos_limpos = ef.clean_weights()"
   ]
  },
  {
   "cell_type": "code",
   "execution_count": 52,
   "id": "06b7caa7",
   "metadata": {},
   "outputs": [
    {
     "data": {
      "text/plain": [
       "OrderedDict([('BTC-USD', 0.13527),\n",
       "             ('SPY', 0.0),\n",
       "             ('GDX', 0.86473),\n",
       "             ('TLT', 0.0),\n",
       "             ('BRK-A', 0.0),\n",
       "             ('XLE', 0.0)])"
      ]
     },
     "execution_count": 52,
     "metadata": {},
     "output_type": "execute_result"
    }
   ],
   "source": [
    "pesos_limpos"
   ]
  },
  {
   "cell_type": "code",
   "execution_count": 53,
   "id": "b43df174",
   "metadata": {},
   "outputs": [
    {
     "name": "stdout",
     "output_type": "stream",
     "text": [
      "Expected annual return: -0.0%\n",
      "Conditional Value at Risk: -0.76%\n"
     ]
    },
    {
     "data": {
      "text/plain": [
       "(-8.80686350149238e-05, -0.0076498542996581665)"
      ]
     },
     "execution_count": 53,
     "metadata": {},
     "output_type": "execute_result"
    }
   ],
   "source": [
    "# Desempenho do portfólio\n",
    "ef.portfolio_performance(verbose = True)"
   ]
  },
  {
   "cell_type": "markdown",
   "id": "9631e13a",
   "metadata": {},
   "source": [
    "### Análise:\n",
    "\n",
    "As métricas fornecidas representam uma previsão do desempenho do portfólio no próximo ano. Vamos interpretá-las:\n",
    "\n",
    "Retorno Anual Esperado: O retorno anual esperado é a média ponderada dos retornos esperados de cada ativo no portfólio, levando em consideração a proporção (ou peso) de cada ativo no portfólio. Neste caso, o retorno esperado é de 0% no próximo ano. Isso significa que se espera que o portfólio perca valor no próximo ano, dadas as condições atuais do mercado e a composição do portfólio.\n",
    "\n",
    "Valor em Risco Condicional (CVaR): O Valor em Risco Condicional (também conhecido como VaR Condicional ou Expected Shortfall) é uma medida de risco que leva em consideração os piores resultados possíveis. O CVaR de -0,76% indica que, no pior 5% dos cenários possíveis (supondo que estejamos usando um nível de confiança de 95%), a perda média do portfólio seria de 0,76% ao longo de um ano.\n",
    "\n",
    "Os valores numéricos entre parênteses correspondem a essas duas métricas e são fornecidos para facilitar a referência ou para uso em cálculos posteriores.\n",
    "\n",
    "Em resumo, a previsão para este portfólio não é muito positiva, já que se espera que ele tenha um retorno negativo e um risco potencialmente alto em cenários adversos. No entanto, essas são apenas previsões e o desempenho real do portfólio pode variar. Além disso, embora o retorno esperado seja negativo, a composição do portfólio pode ter sido escolhida para minimizar o CVaR, o que pode ser uma estratégia válida em certas circunstâncias (por exemplo, em um ambiente de mercado incerto ou volátil).\n",
    "\n",
    "A análise desse portfólio, que minimiza o CVaR (Conditional Value at Risk), revela o seguinte:\n",
    "\n",
    "Pesos Alocados:\n",
    "\n",
    "BTC-USD: 13.57% do portfólio.\n",
    "GDX: 86.43%.\n",
    "Os outros ativos têm peso zero, indicando que a alocação se concentrou nesses dois.\n",
    "Retorno e Risco:\n",
    "\n",
    "Retorno Anual Esperado: -0.0%, indicando um portfólio muito conservador.\n",
    "CVaR: -0.76%, que é o valor que o portfólio deve perder na média dos piores cenários.\n",
    "Interpretação\n",
    "O modelo otimizado minimiza perdas em situações extremas, mas não foca em maximizar retorno. O CVaR negativo indica um portfólio extremamente defensivo, sem foco em ganho, apenas em preservação. Isso pode ser uma estratégia conservadora e pouco adequada para agentes com perfil mais agressivo ou moderado.\n",
    "\n",
    "Se o objetivo é aumentar o retorno com um certo nível de risco, outros métodos, como maximização do retorno com um CVaR-alvo ou uso da razão de Sharpe, poderiam ser mais apropriados.\n",
    "\n",
    "\n",
    "\n",
    "\n",
    "\n",
    "\n"
   ]
  },
  {
   "cell_type": "code",
   "execution_count": null,
   "id": "a07a6fb5",
   "metadata": {},
   "outputs": [],
   "source": []
  },
  {
   "cell_type": "code",
   "execution_count": null,
   "id": "d2f194f9",
   "metadata": {},
   "outputs": [],
   "source": []
  },
  {
   "cell_type": "code",
   "execution_count": null,
   "id": "0bad862d",
   "metadata": {},
   "outputs": [],
   "source": []
  },
  {
   "cell_type": "code",
   "execution_count": null,
   "id": "8bf791b6",
   "metadata": {},
   "outputs": [],
   "source": []
  }
 ],
 "metadata": {
  "kernelspec": {
   "display_name": "Python 3 (ipykernel)",
   "language": "python",
   "name": "python3"
  },
  "language_info": {
   "codemirror_mode": {
    "name": "ipython",
    "version": 3
   },
   "file_extension": ".py",
   "mimetype": "text/x-python",
   "name": "python",
   "nbconvert_exporter": "python",
   "pygments_lexer": "ipython3",
   "version": "3.9.13"
  }
 },
 "nbformat": 4,
 "nbformat_minor": 5
}
