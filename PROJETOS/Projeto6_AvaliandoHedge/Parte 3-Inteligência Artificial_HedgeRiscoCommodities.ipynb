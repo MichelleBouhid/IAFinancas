{
 "cells": [
  {
   "cell_type": "markdown",
   "id": "3f053d94",
   "metadata": {},
   "source": [
    "### <font color='darkred'>IA Aplicado a Finanças</font>\n",
    "\n",
    "### <font color='darkgreen'>Estruturação de Derivativos Para Hedging de Riscos de Commodities</font>\n",
    "\n",
    "### <font color='darkblue'> Parte 3 - Inteligência Artificial </font>"
   ]
  },
  {
   "cell_type": "markdown",
   "id": "9909564a",
   "metadata": {},
   "source": [
    "### <font color = darkred> Carregando Dados </font>"
   ]
  },
  {
   "cell_type": "code",
   "execution_count": 1,
   "id": "2e10faba",
   "metadata": {},
   "outputs": [
    {
     "name": "stdout",
     "output_type": "stream",
     "text": [
      "Versão da Linguagem Python Usada Neste Jupyter Notebook: 3.9.13\n"
     ]
    }
   ],
   "source": [
    "# Versão do Python usado nesse notebook\n",
    "from platform import python_version\n",
    "print('Versão da Linguagem Python Usada Neste Jupyter Notebook:', python_version())"
   ]
  },
  {
   "cell_type": "code",
   "execution_count": 2,
   "id": "6f439a08",
   "metadata": {},
   "outputs": [],
   "source": [
    "#!pip install tensorflow\n",
    "#!pip install numpy==1.24.3 pandas==1.5.3"
   ]
  },
  {
   "cell_type": "code",
   "execution_count": 3,
   "id": "01c852b4",
   "metadata": {},
   "outputs": [],
   "source": [
    "# Imports\n",
    "import random\n",
    "import pandas as pd\n",
    "import numpy as np\n",
    "import tensorflow as tf\n",
    "import matplotlib.pyplot as plt\n",
    "from sklearn.preprocessing import MinMaxScaler\n",
    "from tensorflow.keras.models import Sequential #cria a sequencia de camadas da rede neural artificial\n",
    "from tensorflow.keras.layers import LSTM, Dense #2 camadas pra montar o modelo"
   ]
  },
  {
   "cell_type": "code",
   "execution_count": 4,
   "id": "ad71c008",
   "metadata": {},
   "outputs": [
    {
     "name": "stdout",
     "output_type": "stream",
     "text": [
      "Author: Michelle Bouhid\n",
      "\n",
      "keras     : 3.6.0\n",
      "tensorflow: 2.18.0\n",
      "sklearn   : 1.3.0\n",
      "pandas    : 1.5.3\n",
      "matplotlib: 3.7.1\n",
      "platform  : 1.0.8\n",
      "numpy     : 1.24.3\n",
      "\n"
     ]
    }
   ],
   "source": [
    "# Versões dos pacotes usados neste jupyter notebook\n",
    "%reload_ext watermark\n",
    "%watermark -a \"Michelle Bouhid\" --iversions"
   ]
  },
  {
   "cell_type": "markdown",
   "id": "5255d83e",
   "metadata": {},
   "source": [
    "### <font color = darkred> Parte 3 - Inteligência Artificial </font>\n",
    "\n",
    "- Simulador Para Estratégia de Hedge com Inteligência Artificial, onde o algoritmo vai se encarregar de entender o padrão dos dados e não colocaremos manualmente como na modelagem estistica feita anteriormente.\n",
    "- Moficando somente a parte de IA em comparação NB anterior, agora a vol e o drift o algoritimo vai estimar."
   ]
  },
  {
   "cell_type": "code",
   "execution_count": 5,
   "id": "5e916f8f",
   "metadata": {},
   "outputs": [],
   "source": [
    "# Definimos a semente (Apenas para reproduzir o projeto. Depois pode ser removido!)\n",
    "SEED = 142\n",
    "random.seed(SEED)\n",
    "tf.random.set_seed(SEED)\n",
    "np.random.seed(SEED)"
   ]
  },
  {
   "cell_type": "code",
   "execution_count": 6,
   "id": "eaa00b0f",
   "metadata": {},
   "outputs": [],
   "source": [
    "# Carrega o arquivo CSV\n",
    "df = pd.read_csv(\"preco_petroleo.csv\")"
   ]
  },
  {
   "cell_type": "code",
   "execution_count": 7,
   "id": "4276eea6",
   "metadata": {},
   "outputs": [],
   "source": [
    "# Calcula a série de retornos\n",
    "# na modelagem estatistica alimentamos com valor do petroleo manualmente, modelo fez a previsão e calcumos o retorno previsto\n",
    "# agora, vamos calcular a mudança % de um dia pra outro do valor real, e usamos esse valor de retorno pra treinar o modelo.\n",
    "# porque o modelo de Ia tem capacidade de aprendizado maior que o ARIMA, por isso faremos diferente\n",
    "# pct change gera o % de mudança\n",
    "df['Retornos'] = df['PrecoPetroleo'].pct_change().dropna()"
   ]
  },
  {
   "cell_type": "code",
   "execution_count": 8,
   "id": "d1c9522a",
   "metadata": {},
   "outputs": [],
   "source": [
    "# Padroniza os retornos para treinamento\n",
    "# no ARIMA ele mesmo normaliza os dados, com IA precisa entregar dados padronizados\n",
    "# Modelos de IA esperam receber os dados na mesma escala. (requerimento de rede neural artificial)\n",
    "scaler = MinMaxScaler()\n",
    "scaled_returns = scaler.fit_transform(df[['Retornos']].dropna())"
   ]
  },
  {
   "cell_type": "code",
   "execution_count": 9,
   "id": "fd5e9174",
   "metadata": {},
   "outputs": [],
   "source": [
    "# vamos usar uma Rede Neural Artificial que tem uma arquitetura recorrente (RNN), uma das variaçoes da RNN\n",
    "# LSTM - Long Short Term Memory - uma das melhores aruqiteturas de redes recorrentes, de aprendizado supervisionado\n",
    "# redes recorrentes tem uma especie de memória, otimo pra sequencias, funciona bem com series temporais\n",
    "# como nossos dados não tem entrada e saida, vamos pegar 30 dias de preço do petroleo como entrada\n",
    "# e vamos pegar o dia 31 como saida, e o modelo vai aprender a sequencia.\n",
    "# Vamos mover janelas pelo dados, 30 valores, preve os 31, e assim por diante, movendo 1 posição de cada vez.\n",
    "\n",
    "# Listas de X e y\n",
    "X, y = [], []\n",
    "\n",
    "# Loop pelo dados já padronizados\n",
    "# Cria a estrutura de dados com 30 timesteps e 1 saída\n",
    "for i in range(30, len(scaled_returns)):\n",
    "    X.append(scaled_returns[i-30:i, 0])\n",
    "    y.append(scaled_returns[i, 0])"
   ]
  },
  {
   "cell_type": "code",
   "execution_count": 10,
   "id": "57b03c51",
   "metadata": {},
   "outputs": [],
   "source": [
    "# Ao fim do loop temos 2 listas X e y precisamos converter para array numpy\n",
    "# Converte para array NyumPy e ajusta o shape\n",
    "X, y = np.array(X), np.array(y)\n",
    "X = np.reshape(X, (X.shape[0], X.shape[1], 1))"
   ]
  },
  {
   "cell_type": "code",
   "execution_count": 11,
   "id": "cdd632c4",
   "metadata": {},
   "outputs": [],
   "source": [
    "# Inicializa o modelo\n",
    "# cria uma sequencia de camadas\n",
    "modelo_preco_ia = Sequential()"
   ]
  },
  {
   "cell_type": "code",
   "execution_count": 12,
   "id": "cdef48a7",
   "metadata": {},
   "outputs": [
    {
     "name": "stderr",
     "output_type": "stream",
     "text": [
      "C:\\Users\\miche\\anaconda3\\lib\\site-packages\\keras\\src\\layers\\rnn\\rnn.py:204: UserWarning: Do not pass an `input_shape`/`input_dim` argument to a layer. When using Sequential models, prefer using an `Input(shape)` object as the first layer in the model instead.\n",
      "  super().__init__(**kwargs)\n"
     ]
    }
   ],
   "source": [
    "# Adiciona as camadas LSTM\n",
    "# essa função tem o algoritmo LSTM\n",
    "# units é um hiperparametro que é o nº de neuronios matematicos, retorna sequencia\n",
    "# input_shape é a matriz de entrada, vai receber o valor de X com shape de indice dentro da matriz [1]\n",
    "# retorna a coluna com todos os valores, 1 valor pra cada linha e uma unica coluna\n",
    "# pode acrescentar mais camadas, mas deve tomar cuidado com overfitting\n",
    "\n",
    "modelo_preco_ia.add(LSTM(units = 50, return_sequences = True, input_shape = (X.shape[1], 1)))\n",
    "modelo_preco_ia.add(LSTM(units = 50))"
   ]
  },
  {
   "cell_type": "code",
   "execution_count": 13,
   "id": "1556962b",
   "metadata": {},
   "outputs": [],
   "source": [
    "# Camada de saída\n",
    "# Adiciona a camada de saida, a camada densa com apenas 1 unidade, porque o modelo vai prever 1 unidade\n",
    "# esse unidade é o retorno, por vez, se fosse prever mais variaveis, mudaria o units da camada densa \n",
    "\n",
    "modelo_preco_ia.add(Dense(units = 1))"
   ]
  },
  {
   "cell_type": "code",
   "execution_count": 14,
   "id": "5af86be1",
   "metadata": {},
   "outputs": [],
   "source": [
    "# Compila o modelo\n",
    "# depois de add as camadas compila o modelo\n",
    "# usaremos o adam, o algoritmo de otimização e a função de erro usaremos MSR\n",
    "# otimização matematica pra reduzir o erro\n",
    "modelo_preco_ia.compile(optimizer = 'adam', loss = 'mean_squared_error')"
   ]
  },
  {
   "cell_type": "code",
   "execution_count": 15,
   "id": "f7f81b11",
   "metadata": {},
   "outputs": [
    {
     "name": "stdout",
     "output_type": "stream",
     "text": [
      "Epoch 1/50\n",
      "\u001b[1m21/21\u001b[0m \u001b[32m━━━━━━━━━━━━━━━━━━━━\u001b[0m\u001b[37m\u001b[0m \u001b[1m2s\u001b[0m 11ms/step - loss: 0.1064\n",
      "Epoch 2/50\n",
      "\u001b[1m21/21\u001b[0m \u001b[32m━━━━━━━━━━━━━━━━━━━━\u001b[0m\u001b[37m\u001b[0m \u001b[1m0s\u001b[0m 10ms/step - loss: 0.0385\n",
      "Epoch 3/50\n",
      "\u001b[1m21/21\u001b[0m \u001b[32m━━━━━━━━━━━━━━━━━━━━\u001b[0m\u001b[37m\u001b[0m \u001b[1m0s\u001b[0m 10ms/step - loss: 0.0398\n",
      "Epoch 4/50\n",
      "\u001b[1m21/21\u001b[0m \u001b[32m━━━━━━━━━━━━━━━━━━━━\u001b[0m\u001b[37m\u001b[0m \u001b[1m0s\u001b[0m 10ms/step - loss: 0.0405\n",
      "Epoch 5/50\n",
      "\u001b[1m21/21\u001b[0m \u001b[32m━━━━━━━━━━━━━━━━━━━━\u001b[0m\u001b[37m\u001b[0m \u001b[1m0s\u001b[0m 10ms/step - loss: 0.0404\n",
      "Epoch 6/50\n",
      "\u001b[1m21/21\u001b[0m \u001b[32m━━━━━━━━━━━━━━━━━━━━\u001b[0m\u001b[37m\u001b[0m \u001b[1m0s\u001b[0m 11ms/step - loss: 0.0402\n",
      "Epoch 7/50\n",
      "\u001b[1m21/21\u001b[0m \u001b[32m━━━━━━━━━━━━━━━━━━━━\u001b[0m\u001b[37m\u001b[0m \u001b[1m0s\u001b[0m 9ms/step - loss: 0.0401\n",
      "Epoch 8/50\n",
      "\u001b[1m21/21\u001b[0m \u001b[32m━━━━━━━━━━━━━━━━━━━━\u001b[0m\u001b[37m\u001b[0m \u001b[1m0s\u001b[0m 9ms/step - loss: 0.0400\n",
      "Epoch 9/50\n",
      "\u001b[1m21/21\u001b[0m \u001b[32m━━━━━━━━━━━━━━━━━━━━\u001b[0m\u001b[37m\u001b[0m \u001b[1m0s\u001b[0m 10ms/step - loss: 0.0399\n",
      "Epoch 10/50\n",
      "\u001b[1m21/21\u001b[0m \u001b[32m━━━━━━━━━━━━━━━━━━━━\u001b[0m\u001b[37m\u001b[0m \u001b[1m0s\u001b[0m 10ms/step - loss: 0.0398\n",
      "Epoch 11/50\n",
      "\u001b[1m21/21\u001b[0m \u001b[32m━━━━━━━━━━━━━━━━━━━━\u001b[0m\u001b[37m\u001b[0m \u001b[1m0s\u001b[0m 11ms/step - loss: 0.0397\n",
      "Epoch 12/50\n",
      "\u001b[1m21/21\u001b[0m \u001b[32m━━━━━━━━━━━━━━━━━━━━\u001b[0m\u001b[37m\u001b[0m \u001b[1m0s\u001b[0m 11ms/step - loss: 0.0396\n",
      "Epoch 13/50\n",
      "\u001b[1m21/21\u001b[0m \u001b[32m━━━━━━━━━━━━━━━━━━━━\u001b[0m\u001b[37m\u001b[0m \u001b[1m0s\u001b[0m 14ms/step - loss: 0.0395\n",
      "Epoch 14/50\n",
      "\u001b[1m21/21\u001b[0m \u001b[32m━━━━━━━━━━━━━━━━━━━━\u001b[0m\u001b[37m\u001b[0m \u001b[1m0s\u001b[0m 13ms/step - loss: 0.0394\n",
      "Epoch 15/50\n",
      "\u001b[1m21/21\u001b[0m \u001b[32m━━━━━━━━━━━━━━━━━━━━\u001b[0m\u001b[37m\u001b[0m \u001b[1m0s\u001b[0m 12ms/step - loss: 0.0394\n",
      "Epoch 16/50\n",
      "\u001b[1m21/21\u001b[0m \u001b[32m━━━━━━━━━━━━━━━━━━━━\u001b[0m\u001b[37m\u001b[0m \u001b[1m0s\u001b[0m 11ms/step - loss: 0.0393\n",
      "Epoch 17/50\n",
      "\u001b[1m21/21\u001b[0m \u001b[32m━━━━━━━━━━━━━━━━━━━━\u001b[0m\u001b[37m\u001b[0m \u001b[1m0s\u001b[0m 13ms/step - loss: 0.0393\n",
      "Epoch 18/50\n",
      "\u001b[1m21/21\u001b[0m \u001b[32m━━━━━━━━━━━━━━━━━━━━\u001b[0m\u001b[37m\u001b[0m \u001b[1m0s\u001b[0m 12ms/step - loss: 0.0392\n",
      "Epoch 19/50\n",
      "\u001b[1m21/21\u001b[0m \u001b[32m━━━━━━━━━━━━━━━━━━━━\u001b[0m\u001b[37m\u001b[0m \u001b[1m0s\u001b[0m 12ms/step - loss: 0.0392\n",
      "Epoch 20/50\n",
      "\u001b[1m21/21\u001b[0m \u001b[32m━━━━━━━━━━━━━━━━━━━━\u001b[0m\u001b[37m\u001b[0m \u001b[1m0s\u001b[0m 12ms/step - loss: 0.0391\n",
      "Epoch 21/50\n",
      "\u001b[1m21/21\u001b[0m \u001b[32m━━━━━━━━━━━━━━━━━━━━\u001b[0m\u001b[37m\u001b[0m \u001b[1m0s\u001b[0m 11ms/step - loss: 0.0391\n",
      "Epoch 22/50\n",
      "\u001b[1m21/21\u001b[0m \u001b[32m━━━━━━━━━━━━━━━━━━━━\u001b[0m\u001b[37m\u001b[0m \u001b[1m0s\u001b[0m 13ms/step - loss: 0.0391\n",
      "Epoch 23/50\n",
      "\u001b[1m21/21\u001b[0m \u001b[32m━━━━━━━━━━━━━━━━━━━━\u001b[0m\u001b[37m\u001b[0m \u001b[1m0s\u001b[0m 11ms/step - loss: 0.0390\n",
      "Epoch 24/50\n",
      "\u001b[1m21/21\u001b[0m \u001b[32m━━━━━━━━━━━━━━━━━━━━\u001b[0m\u001b[37m\u001b[0m \u001b[1m0s\u001b[0m 12ms/step - loss: 0.0390\n",
      "Epoch 25/50\n",
      "\u001b[1m21/21\u001b[0m \u001b[32m━━━━━━━━━━━━━━━━━━━━\u001b[0m\u001b[37m\u001b[0m \u001b[1m0s\u001b[0m 13ms/step - loss: 0.0390\n",
      "Epoch 26/50\n",
      "\u001b[1m21/21\u001b[0m \u001b[32m━━━━━━━━━━━━━━━━━━━━\u001b[0m\u001b[37m\u001b[0m \u001b[1m0s\u001b[0m 12ms/step - loss: 0.0389\n",
      "Epoch 27/50\n",
      "\u001b[1m21/21\u001b[0m \u001b[32m━━━━━━━━━━━━━━━━━━━━\u001b[0m\u001b[37m\u001b[0m \u001b[1m0s\u001b[0m 11ms/step - loss: 0.0389\n",
      "Epoch 28/50\n",
      "\u001b[1m21/21\u001b[0m \u001b[32m━━━━━━━━━━━━━━━━━━━━\u001b[0m\u001b[37m\u001b[0m \u001b[1m0s\u001b[0m 11ms/step - loss: 0.0389\n",
      "Epoch 29/50\n",
      "\u001b[1m21/21\u001b[0m \u001b[32m━━━━━━━━━━━━━━━━━━━━\u001b[0m\u001b[37m\u001b[0m \u001b[1m0s\u001b[0m 11ms/step - loss: 0.0388\n",
      "Epoch 30/50\n",
      "\u001b[1m21/21\u001b[0m \u001b[32m━━━━━━━━━━━━━━━━━━━━\u001b[0m\u001b[37m\u001b[0m \u001b[1m0s\u001b[0m 11ms/step - loss: 0.0388\n",
      "Epoch 31/50\n",
      "\u001b[1m21/21\u001b[0m \u001b[32m━━━━━━━━━━━━━━━━━━━━\u001b[0m\u001b[37m\u001b[0m \u001b[1m0s\u001b[0m 11ms/step - loss: 0.0388\n",
      "Epoch 32/50\n",
      "\u001b[1m21/21\u001b[0m \u001b[32m━━━━━━━━━━━━━━━━━━━━\u001b[0m\u001b[37m\u001b[0m \u001b[1m0s\u001b[0m 11ms/step - loss: 0.0388\n",
      "Epoch 33/50\n",
      "\u001b[1m21/21\u001b[0m \u001b[32m━━━━━━━━━━━━━━━━━━━━\u001b[0m\u001b[37m\u001b[0m \u001b[1m0s\u001b[0m 11ms/step - loss: 0.0388\n",
      "Epoch 34/50\n",
      "\u001b[1m21/21\u001b[0m \u001b[32m━━━━━━━━━━━━━━━━━━━━\u001b[0m\u001b[37m\u001b[0m \u001b[1m0s\u001b[0m 12ms/step - loss: 0.0387\n",
      "Epoch 35/50\n",
      "\u001b[1m21/21\u001b[0m \u001b[32m━━━━━━━━━━━━━━━━━━━━\u001b[0m\u001b[37m\u001b[0m \u001b[1m0s\u001b[0m 12ms/step - loss: 0.0387\n",
      "Epoch 36/50\n",
      "\u001b[1m21/21\u001b[0m \u001b[32m━━━━━━━━━━━━━━━━━━━━\u001b[0m\u001b[37m\u001b[0m \u001b[1m0s\u001b[0m 12ms/step - loss: 0.0387\n",
      "Epoch 37/50\n",
      "\u001b[1m21/21\u001b[0m \u001b[32m━━━━━━━━━━━━━━━━━━━━\u001b[0m\u001b[37m\u001b[0m \u001b[1m0s\u001b[0m 12ms/step - loss: 0.0387\n",
      "Epoch 38/50\n",
      "\u001b[1m21/21\u001b[0m \u001b[32m━━━━━━━━━━━━━━━━━━━━\u001b[0m\u001b[37m\u001b[0m \u001b[1m0s\u001b[0m 12ms/step - loss: 0.0387\n",
      "Epoch 39/50\n",
      "\u001b[1m21/21\u001b[0m \u001b[32m━━━━━━━━━━━━━━━━━━━━\u001b[0m\u001b[37m\u001b[0m \u001b[1m0s\u001b[0m 12ms/step - loss: 0.0386\n",
      "Epoch 40/50\n",
      "\u001b[1m21/21\u001b[0m \u001b[32m━━━━━━━━━━━━━━━━━━━━\u001b[0m\u001b[37m\u001b[0m \u001b[1m0s\u001b[0m 13ms/step - loss: 0.0386\n",
      "Epoch 41/50\n",
      "\u001b[1m21/21\u001b[0m \u001b[32m━━━━━━━━━━━━━━━━━━━━\u001b[0m\u001b[37m\u001b[0m \u001b[1m0s\u001b[0m 13ms/step - loss: 0.0386\n",
      "Epoch 42/50\n",
      "\u001b[1m21/21\u001b[0m \u001b[32m━━━━━━━━━━━━━━━━━━━━\u001b[0m\u001b[37m\u001b[0m \u001b[1m0s\u001b[0m 11ms/step - loss: 0.0386\n",
      "Epoch 43/50\n",
      "\u001b[1m21/21\u001b[0m \u001b[32m━━━━━━━━━━━━━━━━━━━━\u001b[0m\u001b[37m\u001b[0m \u001b[1m0s\u001b[0m 12ms/step - loss: 0.0386\n",
      "Epoch 44/50\n",
      "\u001b[1m21/21\u001b[0m \u001b[32m━━━━━━━━━━━━━━━━━━━━\u001b[0m\u001b[37m\u001b[0m \u001b[1m0s\u001b[0m 13ms/step - loss: 0.0385\n",
      "Epoch 45/50\n",
      "\u001b[1m21/21\u001b[0m \u001b[32m━━━━━━━━━━━━━━━━━━━━\u001b[0m\u001b[37m\u001b[0m \u001b[1m0s\u001b[0m 12ms/step - loss: 0.0385\n",
      "Epoch 46/50\n",
      "\u001b[1m21/21\u001b[0m \u001b[32m━━━━━━━━━━━━━━━━━━━━\u001b[0m\u001b[37m\u001b[0m \u001b[1m0s\u001b[0m 11ms/step - loss: 0.0385\n",
      "Epoch 47/50\n",
      "\u001b[1m21/21\u001b[0m \u001b[32m━━━━━━━━━━━━━━━━━━━━\u001b[0m\u001b[37m\u001b[0m \u001b[1m0s\u001b[0m 13ms/step - loss: 0.0385\n",
      "Epoch 48/50\n",
      "\u001b[1m21/21\u001b[0m \u001b[32m━━━━━━━━━━━━━━━━━━━━\u001b[0m\u001b[37m\u001b[0m \u001b[1m0s\u001b[0m 12ms/step - loss: 0.0385\n",
      "Epoch 49/50\n",
      "\u001b[1m21/21\u001b[0m \u001b[32m━━━━━━━━━━━━━━━━━━━━\u001b[0m\u001b[37m\u001b[0m \u001b[1m0s\u001b[0m 12ms/step - loss: 0.0384\n",
      "Epoch 50/50\n",
      "\u001b[1m21/21\u001b[0m \u001b[32m━━━━━━━━━━━━━━━━━━━━\u001b[0m\u001b[37m\u001b[0m \u001b[1m0s\u001b[0m 12ms/step - loss: 0.0384\n"
     ]
    },
    {
     "data": {
      "text/plain": [
       "<keras.src.callbacks.history.History at 0x238a8a79730>"
      ]
     },
     "execution_count": 15,
     "metadata": {},
     "output_type": "execute_result"
    }
   ],
   "source": [
    "#alimenta X e y e treina por 50 passagens alimentando com lote de dados = 16 (para otimizar memoria)\n",
    "# Treina o modelo\n",
    "modelo_preco_ia.fit(X, y, epochs = 50, batch_size = 16)"
   ]
  },
  {
   "cell_type": "code",
   "execution_count": 16,
   "id": "8bb0ac8b",
   "metadata": {},
   "outputs": [
    {
     "name": "stdout",
     "output_type": "stream",
     "text": [
      "\u001b[1m1/1\u001b[0m \u001b[32m━━━━━━━━━━━━━━━━━━━━\u001b[0m\u001b[37m\u001b[0m \u001b[1m0s\u001b[0m 201ms/step\n"
     ]
    }
   ],
   "source": [
    "\n",
    "# Após treinar o modelo fazemos previsões para os próximos 30 dias\n",
    "retornos_previstos = modelo_preco_ia.predict(X[-30:]) "
   ]
  },
  {
   "cell_type": "code",
   "execution_count": 17,
   "id": "92734528",
   "metadata": {},
   "outputs": [],
   "source": [
    "# como padronizamos os dados antes,pra treinar o modelo vai entregar os dados padronizados\n",
    "# Despadronizamos os retornos previstos, pedindo a inverse_transform\n",
    "retornos_previstos = scaler.inverse_transform(retornos_previstos)"
   ]
  },
  {
   "cell_type": "code",
   "execution_count": 18,
   "id": "0cf5f8c5",
   "metadata": {},
   "outputs": [
    {
     "data": {
      "image/png": "[encoded data removed]",
      "text/plain": [
       "<Figure size 640x480 with 1 Axes>"
      ]
     },
     "metadata": {},
     "output_type": "display_data"
    }
   ],
   "source": [
    "# Plot das previsões do modelo\n",
    "plt.hist(retornos_previstos, bins = 30, density = True)\n",
    "plt.title('Previsões do Retorno ao Investir em Petróleo por 30 dias')\n",
    "plt.xlabel('Retorno Previsto ao Investir em Petróleo')\n",
    "plt.ylabel('Frequência')\n",
    "plt.savefig('IA_previsoes_retornos.png')\n",
    "plt.show()"
   ]
  },
  {
   "cell_type": "code",
   "execution_count": 19,
   "id": "6904f52b",
   "metadata": {},
   "outputs": [],
   "source": [
    "# Calculamos o drift e a volatilidade dos retornos previstos\n",
    "# Calculamos pros proximos 30 dias pra entregar na Simulação de Monte Carlo\n",
    "drift = np.mean(retornos_previstos)\n",
    "volatilidade = np.std(retornos_previstos)"
   ]
  },
  {
   "cell_type": "code",
   "execution_count": 20,
   "id": "50e26c88",
   "metadata": {},
   "outputs": [
    {
     "name": "stdout",
     "output_type": "stream",
     "text": [
      "\n",
      "Drift previsto com base no modelo de IA:\n",
      "-0.005241413\n",
      "\n",
      "Volatilidade prevista com base no modelo de IA:\n",
      "0.0044231154\n"
     ]
    }
   ],
   "source": [
    "print(\"\\nDrift previsto com base no modelo de IA:\")\n",
    "print(drift)\n",
    "print(\"\\nVolatilidade prevista com base no modelo de IA:\")\n",
    "print(volatilidade)"
   ]
  },
  {
   "cell_type": "markdown",
   "id": "a33e479c",
   "metadata": {},
   "source": [
    "### <font color = darkred> Simulação de Monte Carlo </font>"
   ]
  },
  {
   "cell_type": "code",
   "execution_count": 21,
   "id": "847d1ac7",
   "metadata": {},
   "outputs": [],
   "source": [
    "# Número de simulações\n",
    "n_simulations = 1000\n",
    "\n",
    "# Lista\n",
    "forecast_30d = []\n",
    "\n",
    "# Inicia um loop para realizar 'n_simulations' simulações.\n",
    "for _ in range(n_simulations):\n",
    "    \n",
    "    # Inicia uma lista com o último preço de petróleo observado.\n",
    "    precos_simulados = [df['PrecoPetroleo'].iloc[-1]]\n",
    "    \n",
    "    # Inicia um loop para simular preços durante 30 dias.\n",
    "    for i in range(30):\n",
    "        \n",
    "        # Calcula um novo preço simulado usando o último preço, o drift e a volatilidade.\n",
    "        preco_simulado = precos_simulados[-1] * np.exp(random.gauss(drift, volatilidade))\n",
    "        \n",
    "        # Adiciona o novo preço simulado à lista de preços simulados.\n",
    "        precos_simulados.append(preco_simulado)\n",
    "    \n",
    "    # Adiciona o último preço simulado à lista 'forecast_30d' que guarda as simulações.\n",
    "    forecast_30d.append(precos_simulados[-1])"
   ]
  },
  {
   "cell_type": "code",
   "execution_count": 22,
   "id": "0a322772",
   "metadata": {},
   "outputs": [
    {
     "data": {
      "image/png": "[encoded data removed]",
      "text/plain": [
       "<Figure size 640x480 with 1 Axes>"
      ]
     },
     "metadata": {},
     "output_type": "display_data"
    }
   ],
   "source": [
    "# Plot do forecast_30d\n",
    "plt.hist(forecast_30d, bins = 50, density = True)\n",
    "plt.title('Simulação Monte Carlo Para os Preços do Petróleo em 30 dias')\n",
    "plt.xlabel('Preço')\n",
    "plt.ylabel('Frequência')\n",
    "plt.savefig('IA_previsoes_preco_smc.png')\n",
    "plt.show()"
   ]
  },
  {
   "cell_type": "markdown",
   "id": "806ce87c",
   "metadata": {},
   "source": [
    "### <font color = darkred> Estratégia de Hedge </font>"
   ]
  },
  {
   "cell_type": "code",
   "execution_count": 23,
   "id": "bb3bf99d",
   "metadata": {},
   "outputs": [],
   "source": [
    "# Custo corrente do petróleo é o último valor da série de dados\n",
    "custo_corrente_petroleo = 1.5 * df['PrecoPetroleo'].iloc[-1]"
   ]
  },
  {
   "cell_type": "code",
   "execution_count": 24,
   "id": "268915d9",
   "metadata": {},
   "outputs": [],
   "source": [
    "# O custo futuro do petróleo é a média das simulações de 30 dias multiplicada pelo fator 1.5\n",
    "custo_futuro_petroleo = 1.5 * np.mean(forecast_30d)"
   ]
  },
  {
   "cell_type": "code",
   "execution_count": 25,
   "id": "6e6794e5",
   "metadata": {},
   "outputs": [],
   "source": [
    "# Suponha que você consome 1000 barris por dia\n",
    "consumo_diario = 1000  "
   ]
  },
  {
   "cell_type": "code",
   "execution_count": 26,
   "id": "b9a550d8",
   "metadata": {},
   "outputs": [],
   "source": [
    "# Custo futuro sem hedge\n",
    "custo_futuro_sem_hedge = custo_futuro_petroleo * consumo_diario * 30"
   ]
  },
  {
   "cell_type": "code",
   "execution_count": 27,
   "id": "8ef06163",
   "metadata": {},
   "outputs": [],
   "source": [
    "# Suponha que o contrato de futuros permite que você fixe o preço do petróleo em $35\n",
    "preco_contrato_futuro = 45"
   ]
  },
  {
   "cell_type": "code",
   "execution_count": 28,
   "id": "e6777ad0",
   "metadata": {},
   "outputs": [],
   "source": [
    "# Calculamos o custo futuro considerando o instrumento financeiro (contrato futuro)\n",
    "custo_futuro_petroleo_com_hedge = 1.5 * preco_contrato_futuro"
   ]
  },
  {
   "cell_type": "code",
   "execution_count": 29,
   "id": "80ee7964",
   "metadata": {},
   "outputs": [
    {
     "name": "stdout",
     "output_type": "stream",
     "text": [
      "\n",
      "Custo futuro sem hedge: $1312812.296\n",
      "\n",
      "Custo futuro com hedge: $2025000.000\n"
     ]
    }
   ],
   "source": [
    "# Custo futuro com estratégia de Hedge. Estamos reduzindo o risco, pois temos o preço do petróleo fixado através\n",
    "# de um instrumento financeiro\n",
    "custo_futuro_com_hedge = custo_futuro_petroleo_com_hedge * consumo_diario * 30\n",
    "\n",
    "print(f\"\\nCusto futuro sem hedge: ${custo_futuro_sem_hedge:.3f}\")\n",
    "print(f\"\\nCusto futuro com hedge: ${custo_futuro_com_hedge:.3f}\")"
   ]
  },
  {
   "cell_type": "code",
   "execution_count": 30,
   "id": "3a6e698b",
   "metadata": {},
   "outputs": [
    {
     "name": "stdout",
     "output_type": "stream",
     "text": [
      "\n",
      "A estratégia de Hedge não resultou em economia.\n"
     ]
    }
   ],
   "source": [
    "# Verifica o resultado e imprime a conclusão\n",
    "if custo_futuro_com_hedge < custo_futuro_sem_hedge:\n",
    "    print(\"\\nA estratégia de Hedge resultou em economia.\")\n",
    "else:\n",
    "    print(\"\\nA estratégia de Hedge não resultou em economia.\")"
   ]
  },
  {
   "cell_type": "code",
   "execution_count": 31,
   "id": "f01fa703",
   "metadata": {},
   "outputs": [
    {
     "name": "stdout",
     "output_type": "stream",
     "text": [
      "\n",
      "Fim\n",
      "\n"
     ]
    }
   ],
   "source": [
    "print(\"\\nFim\\n\")"
   ]
  },
  {
   "cell_type": "markdown",
   "id": "034cc93f",
   "metadata": {},
   "source": [
    "### Introdução ao TensorFlow\n",
    "\n",
    "**TensorFlow** é uma biblioteca de código aberto desenvolvida pelo Google para facilitar a criação e o treinamento de modelos de machine learning, especialmente redes neurais profundas (deep learning). Ele foi projetado para ser uma plataforma poderosa e flexível, capaz de realizar operações em diferentes dispositivos, como CPUs, GPUs e até TPUs (unidades de processamento de tensor desenvolvidas pelo Google).\n",
    "\n",
    "#### 1. Estrutura de Computação Baseada em Tensores\n",
    "\n",
    "- O nome \"TensorFlow\" vem da ideia de \"fluxo de tensores\". Um **tensor** é uma estrutura de dados que representa arrays multidimensionais (como vetores e matrizes). No TensorFlow, tudo é representado como tensores, o que permite realizar operações matemáticas complexas de maneira eficiente.\n",
    "- A biblioteca permite que esses tensores \"fluam\" através de uma série de operações matemáticas, criando o \"fluxo\" de dados que o nome sugere. Isso é essencial para o treinamento de redes neurais, que dependem de muitas operações matemáticas aplicadas em camadas de dados.\n",
    "\n",
    "#### 2. Versatilidade e Flexibilidade\n",
    "\n",
    "- O TensorFlow é altamente flexível e pode ser usado para uma ampla gama de tarefas, incluindo:\n",
    "  - **Classificação de imagens** (visão computacional)\n",
    "  - **Processamento de linguagem natural** (NLP), como tradução de idiomas e análise de sentimentos\n",
    "  - **Séries temporais e previsão** (como previsão de vendas ou análise de dados financeiros)\n",
    "  - **Reconhecimento de voz** e muito mais.\n",
    "- Ele permite que você defina modelos personalizados com operações complexas, o que é útil para pesquisa e desenvolvimento de novos algoritmos de IA.\n",
    "\n",
    "#### 3. Suporte para GPUs e TPUs\n",
    "\n",
    "- TensorFlow foi projetado para aproveitar o poder de GPUs (Unidades de Processamento Gráfico), o que acelera drasticamente o treinamento de modelos de deep learning. Isso é especialmente útil em redes neurais profundas, que exigem muitos cálculos paralelos.\n",
    "- Google também oferece o suporte a **TPUs** (Tensor Processing Units), um tipo de hardware desenvolvido especificamente para operações de TensorFlow. TPUs são ainda mais rápidas e otimizadas para modelos de aprendizado profundo e podem ser usadas na Google Cloud Platform.\n",
    "\n",
    "#### 4. Keras: Interface de Alto Nível\n",
    "\n",
    "- O **Keras** é uma API de alto nível para construção de modelos que agora faz parte do TensorFlow. A Keras simplifica o processo de construção de modelos ao fornecer uma interface fácil de usar para definir, compilar e treinar redes neurais.\n",
    "- Keras é especialmente útil para iniciantes e para desenvolvimento rápido, pois oferece uma maneira intuitiva de construir modelos complexos com poucas linhas de código.\n",
    "\n",
    "#### 5. TensorFlow Lite e TensorFlow.js\n",
    "\n",
    "- **TensorFlow Lite** é uma versão otimizada do TensorFlow para dispositivos móveis e embarcados, permitindo a execução de modelos de machine learning em smartphones, tablets e IoT (Internet das Coisas).\n",
    "- **TensorFlow.js** permite executar modelos de machine learning no navegador, usando JavaScript. Isso é útil para criar aplicações interativas e levar a IA para a web.\n",
    "\n",
    "#### 6. TensorFlow Extended (TFX) e Produção\n",
    "\n",
    "- **TensorFlow Extended (TFX)** é uma plataforma completa de machine learning para ambientes de produção. Com o TFX, você pode desenvolver, treinar, implantar e monitorar modelos em grande escala. Ele fornece ferramentas para automação e controle de versão, além de pipelines para gerenciar fluxos de dados e treinamento de modelos.\n"
   ]
  },
  {
   "cell_type": "markdown",
   "id": "6bd7c367",
   "metadata": {},
   "source": [
    "### Diferenças entre TensorFlow e PyTorch\n",
    "\n",
    "Tanto o **TensorFlow** quanto o **PyTorch** são bibliotecas populares para machine learning e deep learning, cada uma com seus próprios pontos fortes. A escolha entre as duas geralmente depende das preferências pessoais e do contexto do projeto. Aqui estão as principais diferenças:\n",
    "\n",
    "#### 1. Definição Dinâmica vs. Definição Estática de Grafos Computacionais\n",
    "\n",
    "- **PyTorch** usa uma **definição dinâmica de grafos computacionais** (*define-by-run*), onde o grafo é criado enquanto o código é executado. Isso facilita a depuração e experimentação, pois permite verificar e modificar o grafo em tempo real, como faria com um código Python comum.\n",
    "\n",
    "- **TensorFlow** (especialmente antes da versão 2.0) usava uma **definição estática de grafos computacionais**, em que o grafo inteiro é definido antes de rodar o modelo. Isso dificulta a depuração, mas permite otimizações adicionais para produção. Com o TensorFlow 2.0, foi introduzido o modo de execução dinâmica (`eager execution`), tornando-o mais semelhante ao PyTorch nesse aspecto.\n",
    "\n",
    "#### 2. Popularidade e Adoção\n",
    "\n",
    "- **PyTorch** é muito popular na **comunidade acadêmica** e de pesquisa, pois facilita a experimentação e iteração rápida devido ao seu estilo de execução dinâmica. Muitos artigos acadêmicos usam PyTorch para implementações experimentais.\n",
    "\n",
    "- **TensorFlow** tem uma forte presença na **indústria**, especialmente em produção, pois oferece ferramentas como **TensorFlow Extended (TFX)** e **TensorFlow Serving** para implantar modelos em larga escala.\n",
    "\n",
    "#### 3. Keras como API de Alto Nível\n",
    "\n",
    "- **TensorFlow** inclui o **Keras** como sua API de alto nível, facilitando a construção de modelos complexos com poucas linhas de código. Isso é especialmente útil para iniciantes e para o desenvolvimento rápido de protótipos.\n",
    "\n",
    "- **PyTorch** tem uma API intuitiva e semelhante ao Keras, usando o módulo `nn` e `Sequential` para construir modelos. Além disso, **PyTorch Lightning** e a biblioteca **Transformers da Hugging Face** fornecem APIs de alto nível que tornam o desenvolvimento com PyTorch ainda mais simplificado.\n",
    "\n",
    "#### 4. Suporte a GPUs e Desempenho\n",
    "\n",
    "- Ambos oferecem suporte a **GPUs** para acelerar o treinamento de modelos. No entanto, **TensorFlow** tem integração nativa com **TPUs** (Tensor Processing Units), o hardware especializado do Google para deep learning, o que o torna uma escolha ideal para treinar grandes modelos na infraestrutura do Google Cloud.\n",
    "\n",
    "- **PyTorch** também suporta GPUs, mas o suporte a TPUs não é tão direto quanto no TensorFlow (embora seja possível usar PyTorch com TPUs através de ferramentas como PyTorch XLA).\n",
    "\n",
    "#### 5. Deployment e Produção\n",
    "\n",
    "- **TensorFlow** oferece uma gama de ferramentas para deployment e produção, como:\n",
    "  - **TensorFlow Extended (TFX)**: Para criar pipelines de machine learning em produção.\n",
    "  - **TensorFlow Serving**: Para hospedar modelos em tempo real.\n",
    "  - **TensorFlow Lite**: Para dispositivos móveis e IoT.\n",
    "  - **TensorFlow.js**: Para rodar modelos em navegadores.\n",
    "\n",
    "  Essas ferramentas tornam o TensorFlow uma opção mais robusta para ambientes de produção.\n",
    "\n",
    "- **PyTorch** introduziu recentemente o **TorchServe** (servidor de modelos desenvolvido pela AWS) e **TorchScript** (para converter modelos em grafos estáticos otimizados), mas seu ecossistema de produção ainda é menos maduro que o do TensorFlow.\n",
    "\n",
    "#### 6. Comunidade e Recursos\n",
    "\n",
    "- **PyTorch** tem uma comunidade acadêmica ativa e muitos tutoriais e publicações são focados no PyTorch, tornando-o uma escolha comum para pesquisa e aprendizado em deep learning.\n",
    "\n",
    "- **TensorFlow** é amplamente suportado pelo Google e tem uma forte comunidade industrial, com muitos recursos educacionais e suporte empresarial. Ele é amplamente usado por grandes empresas para problemas de produção em larga escala.\n",
    "\n",
    "#### 7. Facilidade de Uso\n",
    "\n",
    "- **PyTorch** é geralmente considerado mais \"Pythonic\" e fácil de entender, especialmente para quem já conhece Python. Sua estrutura é mais intuitiva e próxima do código Python tradicional, facilitando a depuração e a experimentação.\n",
    "\n",
    "- **TensorFlow**, embora tenha melhorado significativamente com o TensorFlow 2.x e o `eager execution`, ainda pode parecer mais complexo para iniciantes, especialmente devido à sua estrutura voltada para produção.\n",
    "\n",
    "#### Resumo: Quando Escolher Cada Um\n",
    "\n",
    "- **Use PyTorch** se você está focado em pesquisa, aprendizado, ou desenvolvimento rápido de protótipos, especialmente se você quer algo fácil de entender e depurar.\n",
    "  \n",
    "- **Use TensorFlow** se você precisa de uma solução escalável para produção, com suporte robusto para deployment e integração em grandes ambientes empresariais. TensorFlow é uma boa escolha para projetos que precisam de pipelines completos de machine learning e para empresas que já utilizam a infraestrutura do Google.\n",
    "\n",
    "Ambos são bibliotecas poderosas e capazes de realizar tarefas complexas de aprendizado profundo. A escolha final depende das necessidades do projeto e das preferências do desenvolvedor.\n"
   ]
  },
  {
   "cell_type": "code",
   "execution_count": null,
   "id": "91055587",
   "metadata": {},
   "outputs": [],
   "source": []
  }
 ],
 "metadata": {
  "kernelspec": {
   "display_name": "Python 3 (ipykernel)",
   "language": "python",
   "name": "python3"
  },
  "language_info": {
   "codemirror_mode": {
    "name": "ipython",
    "version": 3
   },
   "file_extension": ".py",
   "mimetype": "text/x-python",
   "name": "python",
   "nbconvert_exporter": "python",
   "pygments_lexer": "ipython3",
   "version": "3.9.13"
  }
 },
 "nbformat": 4,
 "nbformat_minor": 5
}
